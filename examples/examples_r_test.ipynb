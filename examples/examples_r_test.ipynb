{
 "cells": [
  {
   "cell_type": "code",
   "execution_count": 1,
   "id": "90e4a353-8d8f-4b40-9d99-3ef6b328b9f6",
   "metadata": {},
   "outputs": [],
   "source": [
    "#if (!requireNamespace(\"BiocManager\", quietly = TRUE))\n",
    "#  install.packages(\"BiocManager\")\n",
    "#BiocManager::install(\"iterativeBMA\")\n",
    "#install.packages(\"PDtoolkit\")\n",
    "# install.packages(\"remotes\")\n",
    "# remotes::install_github(\"ayhandis/creditR\")\n",
    "\n",
    "##########\n",
    "# There doesn't appear to be an R implementation of the Spiegelhalter test.\n",
    "# The SAS implementation seems to be very limited in its scope: it doesn't let you\n",
    "# specify the hypothesized success probabilities as far as I can tell."
   ]
  },
  {
   "cell_type": "code",
   "execution_count": 16,
   "id": "1d49a2e9-23e7-478a-8137-4b07347adf13",
   "metadata": {},
   "outputs": [],
   "source": [
    "test_data <- read.csv(\"pd_test_data.csv\")"
   ]
  },
  {
   "cell_type": "code",
   "execution_count": 13,
   "id": "297534e8-99a9-4df7-b369-46b7094c8b63",
   "metadata": {},
   "outputs": [
    {
     "data": {
      "text/html": [
       "0.0972700691307479"
      ],
      "text/latex": [
       "0.0972700691307479"
      ],
      "text/markdown": [
       "0.0972700691307479"
      ],
      "text/plain": [
       "[1] 0.09727007"
      ]
     },
     "metadata": {},
     "output_type": "display_data"
    }
   ],
   "source": [
    "library(iterativeBMA, quietly = T)\n",
    "\n",
    "brier.score(test_data$predicted_pd, test_data$default_flag)/nrow(test_data)"
   ]
  },
  {
   "cell_type": "code",
   "execution_count": 17,
   "id": "f2005ddd-4eaf-44e4-a6c3-2b65a9d28db9",
   "metadata": {},
   "outputs": [
    {
     "data": {
      "text/html": [
       "<table class=\"dataframe\">\n",
       "<caption>A data.frame: 3 × 14</caption>\n",
       "<thead>\n",
       "\t<tr><th scope=col>rating</th><th scope=col>no</th><th scope=col>nb</th><th scope=col>odr</th><th scope=col>pdc</th><th scope=col>alpha</th><th scope=col>binomial</th><th scope=col>binomial.res</th><th scope=col>jeffreys</th><th scope=col>jeffreys.res</th><th scope=col>zscore</th><th scope=col>zscore.res</th><th scope=col>hosmer.lemeshow</th><th scope=col>hosmer.lemeshow.res</th></tr>\n",
       "\t<tr><th scope=col>&lt;chr&gt;</th><th scope=col>&lt;int&gt;</th><th scope=col>&lt;int&gt;</th><th scope=col>&lt;dbl&gt;</th><th scope=col>&lt;dbl&gt;</th><th scope=col>&lt;dbl&gt;</th><th scope=col>&lt;dbl&gt;</th><th scope=col>&lt;chr&gt;</th><th scope=col>&lt;dbl&gt;</th><th scope=col>&lt;chr&gt;</th><th scope=col>&lt;dbl&gt;</th><th scope=col>&lt;chr&gt;</th><th scope=col>&lt;dbl&gt;</th><th scope=col>&lt;chr&gt;</th></tr>\n",
       "</thead>\n",
       "<tbody>\n",
       "\t<tr><td>A</td><td>382</td><td>33</td><td>0.08638743</td><td>0.10</td><td>0.05</td><td>0.8343581</td><td>H0: ODR &lt;= PDC</td><td>0.8112067</td><td>H0: ODR &lt;= PDC</td><td>0.8124203</td><td>H0: ODR &lt;= PDC</td><td>0.7987413</td><td>H0: ODR &lt;= PDC</td></tr>\n",
       "\t<tr><td>B</td><td>515</td><td>81</td><td>0.15728155</td><td>0.15</td><td>0.05</td><td>0.3397752</td><td>H0: ODR &lt;= PDC</td><td>0.3177451</td><td>H0: ODR &lt;= PDC</td><td>0.3217618</td><td>H0: ODR &lt;= PDC</td><td>0.7987413</td><td>H0: ODR &lt;= PDC</td></tr>\n",
       "\t<tr><td>C</td><td>103</td><td>21</td><td>0.20388350</td><td>0.20</td><td>0.05</td><td>0.4999238</td><td>H0: ODR &lt;= PDC</td><td>0.4510711</td><td>H0: ODR &lt;= PDC</td><td>0.4607546</td><td>H0: ODR &lt;= PDC</td><td>0.7987413</td><td>H0: ODR &lt;= PDC</td></tr>\n",
       "</tbody>\n",
       "</table>\n"
      ],
      "text/latex": [
       "A data.frame: 3 × 14\n",
       "\\begin{tabular}{llllllllllllll}\n",
       " rating & no & nb & odr & pdc & alpha & binomial & binomial.res & jeffreys & jeffreys.res & zscore & zscore.res & hosmer.lemeshow & hosmer.lemeshow.res\\\\\n",
       " <chr> & <int> & <int> & <dbl> & <dbl> & <dbl> & <dbl> & <chr> & <dbl> & <chr> & <dbl> & <chr> & <dbl> & <chr>\\\\\n",
       "\\hline\n",
       "\t A & 382 & 33 & 0.08638743 & 0.10 & 0.05 & 0.8343581 & H0: ODR <= PDC & 0.8112067 & H0: ODR <= PDC & 0.8124203 & H0: ODR <= PDC & 0.7987413 & H0: ODR <= PDC\\\\\n",
       "\t B & 515 & 81 & 0.15728155 & 0.15 & 0.05 & 0.3397752 & H0: ODR <= PDC & 0.3177451 & H0: ODR <= PDC & 0.3217618 & H0: ODR <= PDC & 0.7987413 & H0: ODR <= PDC\\\\\n",
       "\t C & 103 & 21 & 0.20388350 & 0.20 & 0.05 & 0.4999238 & H0: ODR <= PDC & 0.4510711 & H0: ODR <= PDC & 0.4607546 & H0: ODR <= PDC & 0.7987413 & H0: ODR <= PDC\\\\\n",
       "\\end{tabular}\n"
      ],
      "text/markdown": [
       "\n",
       "A data.frame: 3 × 14\n",
       "\n",
       "| rating &lt;chr&gt; | no &lt;int&gt; | nb &lt;int&gt; | odr &lt;dbl&gt; | pdc &lt;dbl&gt; | alpha &lt;dbl&gt; | binomial &lt;dbl&gt; | binomial.res &lt;chr&gt; | jeffreys &lt;dbl&gt; | jeffreys.res &lt;chr&gt; | zscore &lt;dbl&gt; | zscore.res &lt;chr&gt; | hosmer.lemeshow &lt;dbl&gt; | hosmer.lemeshow.res &lt;chr&gt; |\n",
       "|---|---|---|---|---|---|---|---|---|---|---|---|---|---|\n",
       "| A | 382 | 33 | 0.08638743 | 0.10 | 0.05 | 0.8343581 | H0: ODR &lt;= PDC | 0.8112067 | H0: ODR &lt;= PDC | 0.8124203 | H0: ODR &lt;= PDC | 0.7987413 | H0: ODR &lt;= PDC |\n",
       "| B | 515 | 81 | 0.15728155 | 0.15 | 0.05 | 0.3397752 | H0: ODR &lt;= PDC | 0.3177451 | H0: ODR &lt;= PDC | 0.3217618 | H0: ODR &lt;= PDC | 0.7987413 | H0: ODR &lt;= PDC |\n",
       "| C | 103 | 21 | 0.20388350 | 0.20 | 0.05 | 0.4999238 | H0: ODR &lt;= PDC | 0.4510711 | H0: ODR &lt;= PDC | 0.4607546 | H0: ODR &lt;= PDC | 0.7987413 | H0: ODR &lt;= PDC |\n",
       "\n"
      ],
      "text/plain": [
       "  rating no  nb odr        pdc  alpha binomial  binomial.res   jeffreys \n",
       "1 A      382 33 0.08638743 0.10 0.05  0.8343581 H0: ODR <= PDC 0.8112067\n",
       "2 B      515 81 0.15728155 0.15 0.05  0.3397752 H0: ODR <= PDC 0.3177451\n",
       "3 C      103 21 0.20388350 0.20 0.05  0.4999238 H0: ODR <= PDC 0.4510711\n",
       "  jeffreys.res   zscore    zscore.res     hosmer.lemeshow hosmer.lemeshow.res\n",
       "1 H0: ODR <= PDC 0.8124203 H0: ODR <= PDC 0.7987413       H0: ODR <= PDC     \n",
       "2 H0: ODR <= PDC 0.3217618 H0: ODR <= PDC 0.7987413       H0: ODR <= PDC     \n",
       "3 H0: ODR <= PDC 0.4607546 H0: ODR <= PDC 0.7987413       H0: ODR <= PDC     "
      ]
     },
     "metadata": {},
     "output_type": "display_data"
    }
   ],
   "source": [
    "library(PDtoolkit, quietly = T)\n",
    "\n",
    "test_agg <- read.csv(\"pd_test_agg.csv\")\n",
    "pp.testing(rating.label = test_agg$ratings,\n",
    "           pdc = test_agg$PD,\n",
    "           no = test_agg$N,\n",
    "           nb = test_agg$D, \n",
    "           alpha = 0.05)"
   ]
  },
  {
   "cell_type": "code",
   "execution_count": 20,
   "id": "cec84482-446b-47e6-8546-c98ad20b8ddc",
   "metadata": {},
   "outputs": [
    {
     "data": {
      "text/html": [
       "<table class=\"dataframe\">\n",
       "<caption>A tibble: 3 × 8</caption>\n",
       "<thead>\n",
       "\t<tr><th scope=col>ratings</th><th scope=col>predicted_pd_mean</th><th scope=col>default_flag_mean</th><th scope=col>predicted_pd_sum</th><th scope=col>default_flag_sum</th><th scope=col>predicted_pd_n</th><th scope=col>default_flag_n</th><th scope=col>p_value</th></tr>\n",
       "\t<tr><th scope=col>&lt;chr&gt;</th><th scope=col>&lt;dbl&gt;</th><th scope=col>&lt;dbl&gt;</th><th scope=col>&lt;dbl&gt;</th><th scope=col>&lt;int&gt;</th><th scope=col>&lt;int&gt;</th><th scope=col>&lt;int&gt;</th><th scope=col>&lt;dbl&gt;</th></tr>\n",
       "</thead>\n",
       "<tbody>\n",
       "\t<tr><td>A</td><td>0.10342906</td><td>0.13546798</td><td>41.9922</td><td>55</td><td>406</td><td>406</td><td>0.01995857</td></tr>\n",
       "\t<tr><td>B</td><td>0.09952396</td><td>0.08541667</td><td>47.7715</td><td>41</td><td>480</td><td>480</td><td>0.84955196</td></tr>\n",
       "\t<tr><td>C</td><td>0.09571932</td><td>0.08771930</td><td>10.9120</td><td>10</td><td>114</td><td>114</td><td>0.59864873</td></tr>\n",
       "</tbody>\n",
       "</table>\n"
      ],
      "text/latex": [
       "A tibble: 3 × 8\n",
       "\\begin{tabular}{llllllll}\n",
       " ratings & predicted\\_pd\\_mean & default\\_flag\\_mean & predicted\\_pd\\_sum & default\\_flag\\_sum & predicted\\_pd\\_n & default\\_flag\\_n & p\\_value\\\\\n",
       " <chr> & <dbl> & <dbl> & <dbl> & <int> & <int> & <int> & <dbl>\\\\\n",
       "\\hline\n",
       "\t A & 0.10342906 & 0.13546798 & 41.9922 & 55 & 406 & 406 & 0.01995857\\\\\n",
       "\t B & 0.09952396 & 0.08541667 & 47.7715 & 41 & 480 & 480 & 0.84955196\\\\\n",
       "\t C & 0.09571932 & 0.08771930 & 10.9120 & 10 & 114 & 114 & 0.59864873\\\\\n",
       "\\end{tabular}\n"
      ],
      "text/markdown": [
       "\n",
       "A tibble: 3 × 8\n",
       "\n",
       "| ratings &lt;chr&gt; | predicted_pd_mean &lt;dbl&gt; | default_flag_mean &lt;dbl&gt; | predicted_pd_sum &lt;dbl&gt; | default_flag_sum &lt;int&gt; | predicted_pd_n &lt;int&gt; | default_flag_n &lt;int&gt; | p_value &lt;dbl&gt; |\n",
       "|---|---|---|---|---|---|---|---|\n",
       "| A | 0.10342906 | 0.13546798 | 41.9922 | 55 | 406 | 406 | 0.01995857 |\n",
       "| B | 0.09952396 | 0.08541667 | 47.7715 | 41 | 480 | 480 | 0.84955196 |\n",
       "| C | 0.09571932 | 0.08771930 | 10.9120 | 10 | 114 | 114 | 0.59864873 |\n",
       "\n"
      ],
      "text/plain": [
       "  ratings predicted_pd_mean default_flag_mean predicted_pd_sum default_flag_sum\n",
       "1 A       0.10342906        0.13546798        41.9922          55              \n",
       "2 B       0.09952396        0.08541667        47.7715          41              \n",
       "3 C       0.09571932        0.08771930        10.9120          10              \n",
       "  predicted_pd_n default_flag_n p_value   \n",
       "1 406            406            0.01995857\n",
       "2 480            480            0.84955196\n",
       "3 114            114            0.59864873"
      ]
     },
     "metadata": {},
     "output_type": "display_data"
    }
   ],
   "source": [
    "# Aggregate the results\n",
    "df2 <- test_data %>%\n",
    "  group_by(ratings) %>%\n",
    "  summarise_at(vars(predicted_pd, default_flag), funs(mean(.), sum(.), n()))\n",
    "\n",
    "# Calculate p-value per rating class\n",
    "df2$p_value <- pbeta(df2$predicted_pd_mean, \n",
    "                     df2$default_flag_sum + 0.5, \n",
    "                     df2$predicted_pd_n - df2$default_flag_sum + 0.5)\n",
    "\n",
    "df2"
   ]
  },
  {
   "cell_type": "code",
   "execution_count": 24,
   "id": "7a1b9859-2877-4c9f-9a38-24b80cff640f",
   "metadata": {},
   "outputs": [
    {
     "data": {
      "text/html": [
       "<table class=\"dataframe\">\n",
       "<caption>A data.frame: 3 × 14</caption>\n",
       "<thead>\n",
       "\t<tr><th scope=col>rating</th><th scope=col>no</th><th scope=col>nb</th><th scope=col>odr</th><th scope=col>pdc</th><th scope=col>alpha</th><th scope=col>binomial</th><th scope=col>binomial.res</th><th scope=col>jeffreys</th><th scope=col>jeffreys.res</th><th scope=col>zscore</th><th scope=col>zscore.res</th><th scope=col>hosmer.lemeshow</th><th scope=col>hosmer.lemeshow.res</th></tr>\n",
       "\t<tr><th scope=col>&lt;chr&gt;</th><th scope=col>&lt;int&gt;</th><th scope=col>&lt;int&gt;</th><th scope=col>&lt;dbl&gt;</th><th scope=col>&lt;dbl&gt;</th><th scope=col>&lt;dbl&gt;</th><th scope=col>&lt;dbl&gt;</th><th scope=col>&lt;chr&gt;</th><th scope=col>&lt;dbl&gt;</th><th scope=col>&lt;chr&gt;</th><th scope=col>&lt;dbl&gt;</th><th scope=col>&lt;chr&gt;</th><th scope=col>&lt;dbl&gt;</th><th scope=col>&lt;chr&gt;</th></tr>\n",
       "</thead>\n",
       "<tbody>\n",
       "\t<tr><td>A</td><td>406</td><td>55</td><td>0.13546798</td><td>0.10342906</td><td>0.05</td><td>0.02389227</td><td>H1: ODR &gt; PDC </td><td>0.01995857</td><td>H1: ODR &gt; PDC </td><td>0.01700479</td><td>H1: ODR &gt; PDC </td><td>0.13025</td><td>H0: ODR &lt;= PDC</td></tr>\n",
       "\t<tr><td>B</td><td>480</td><td>41</td><td>0.08541667</td><td>0.09952396</td><td>0.05</td><td>0.86744061</td><td>H0: ODR &lt;= PDC</td><td>0.84955196</td><td>H0: ODR &lt;= PDC</td><td>0.84906675</td><td>H0: ODR &lt;= PDC</td><td>0.13025</td><td>H0: ODR &lt;= PDC</td></tr>\n",
       "\t<tr><td>C</td><td>114</td><td>10</td><td>0.08771930</td><td>0.09571932</td><td>0.05</td><td>0.66055279</td><td>H0: ODR &lt;= PDC</td><td>0.59864873</td><td>H0: ODR &lt;= PDC</td><td>0.61421823</td><td>H0: ODR &lt;= PDC</td><td>0.13025</td><td>H0: ODR &lt;= PDC</td></tr>\n",
       "</tbody>\n",
       "</table>\n"
      ],
      "text/latex": [
       "A data.frame: 3 × 14\n",
       "\\begin{tabular}{llllllllllllll}\n",
       " rating & no & nb & odr & pdc & alpha & binomial & binomial.res & jeffreys & jeffreys.res & zscore & zscore.res & hosmer.lemeshow & hosmer.lemeshow.res\\\\\n",
       " <chr> & <int> & <int> & <dbl> & <dbl> & <dbl> & <dbl> & <chr> & <dbl> & <chr> & <dbl> & <chr> & <dbl> & <chr>\\\\\n",
       "\\hline\n",
       "\t A & 406 & 55 & 0.13546798 & 0.10342906 & 0.05 & 0.02389227 & H1: ODR > PDC  & 0.01995857 & H1: ODR > PDC  & 0.01700479 & H1: ODR > PDC  & 0.13025 & H0: ODR <= PDC\\\\\n",
       "\t B & 480 & 41 & 0.08541667 & 0.09952396 & 0.05 & 0.86744061 & H0: ODR <= PDC & 0.84955196 & H0: ODR <= PDC & 0.84906675 & H0: ODR <= PDC & 0.13025 & H0: ODR <= PDC\\\\\n",
       "\t C & 114 & 10 & 0.08771930 & 0.09571932 & 0.05 & 0.66055279 & H0: ODR <= PDC & 0.59864873 & H0: ODR <= PDC & 0.61421823 & H0: ODR <= PDC & 0.13025 & H0: ODR <= PDC\\\\\n",
       "\\end{tabular}\n"
      ],
      "text/markdown": [
       "\n",
       "A data.frame: 3 × 14\n",
       "\n",
       "| rating &lt;chr&gt; | no &lt;int&gt; | nb &lt;int&gt; | odr &lt;dbl&gt; | pdc &lt;dbl&gt; | alpha &lt;dbl&gt; | binomial &lt;dbl&gt; | binomial.res &lt;chr&gt; | jeffreys &lt;dbl&gt; | jeffreys.res &lt;chr&gt; | zscore &lt;dbl&gt; | zscore.res &lt;chr&gt; | hosmer.lemeshow &lt;dbl&gt; | hosmer.lemeshow.res &lt;chr&gt; |\n",
       "|---|---|---|---|---|---|---|---|---|---|---|---|---|---|\n",
       "| A | 406 | 55 | 0.13546798 | 0.10342906 | 0.05 | 0.02389227 | H1: ODR &gt; PDC  | 0.01995857 | H1: ODR &gt; PDC  | 0.01700479 | H1: ODR &gt; PDC  | 0.13025 | H0: ODR &lt;= PDC |\n",
       "| B | 480 | 41 | 0.08541667 | 0.09952396 | 0.05 | 0.86744061 | H0: ODR &lt;= PDC | 0.84955196 | H0: ODR &lt;= PDC | 0.84906675 | H0: ODR &lt;= PDC | 0.13025 | H0: ODR &lt;= PDC |\n",
       "| C | 114 | 10 | 0.08771930 | 0.09571932 | 0.05 | 0.66055279 | H0: ODR &lt;= PDC | 0.59864873 | H0: ODR &lt;= PDC | 0.61421823 | H0: ODR &lt;= PDC | 0.13025 | H0: ODR &lt;= PDC |\n",
       "\n"
      ],
      "text/plain": [
       "  rating no  nb odr        pdc        alpha binomial   binomial.res  \n",
       "1 A      406 55 0.13546798 0.10342906 0.05  0.02389227 H1: ODR > PDC \n",
       "2 B      480 41 0.08541667 0.09952396 0.05  0.86744061 H0: ODR <= PDC\n",
       "3 C      114 10 0.08771930 0.09571932 0.05  0.66055279 H0: ODR <= PDC\n",
       "  jeffreys   jeffreys.res   zscore     zscore.res     hosmer.lemeshow\n",
       "1 0.01995857 H1: ODR > PDC  0.01700479 H1: ODR > PDC  0.13025        \n",
       "2 0.84955196 H0: ODR <= PDC 0.84906675 H0: ODR <= PDC 0.13025        \n",
       "3 0.59864873 H0: ODR <= PDC 0.61421823 H0: ODR <= PDC 0.13025        \n",
       "  hosmer.lemeshow.res\n",
       "1 H0: ODR <= PDC     \n",
       "2 H0: ODR <= PDC     \n",
       "3 H0: ODR <= PDC     "
      ]
     },
     "metadata": {},
     "output_type": "display_data"
    }
   ],
   "source": [
    "pp.testing(rating.label = df2$ratings,\n",
    "           pdc = df2$predicted_pd_mean,\n",
    "           no = df2$predicted_pd_n,\n",
    "           nb = df2$default_flag_sum, \n",
    "           alpha = 0.05)"
   ]
  },
  {
   "cell_type": "code",
   "execution_count": 15,
   "id": "d829b2cf-ed9a-48ee-bed0-4faa99c774a5",
   "metadata": {},
   "outputs": [
    {
     "name": "stdout",
     "output_type": "stream",
     "text": [
      "       Final.PD.Range Total.Observations Total.Distr Good.Count Bad.Count\n",
      "1  <= 0.0001614740971                 25        2.5%         20         5\n",
      "2     <= 0.0383381406                 75        7.5%         69         6\n",
      "3    <= 0.04370753681                 25        2.5%         21         4\n",
      "4    <= 0.04913624977                 25        2.5%         23         2\n",
      "5    <= 0.05854416783                 50        5.0%         47         3\n",
      "6    <= 0.06242014789                 25        2.5%         21         4\n",
      "7    <= 0.06645733297                 25        2.5%         20         5\n",
      "8    <= 0.07375163657                 50        5.0%         45         5\n",
      "9    <= 0.08079731541                 50        5.0%         48         2\n",
      "10   <= 0.08375035232                 25        2.5%         21         4\n",
      "11   <= 0.08799747431                 25        2.5%         23         2\n",
      "12   <= 0.09736922493                 75        7.5%         66         9\n",
      "13    <= 0.1000496439                 25        2.5%         23         2\n",
      "14    <= 0.1030358042                 25        2.5%         22         3\n",
      "15    <= 0.1102836249                 50        5.0%         47         3\n",
      "16    <= 0.1130352581                 25        2.5%         21         4\n",
      "17    <= 0.1237137632                 75        7.5%         69         6\n",
      "18    <= 0.1273330396                 25        2.5%         21         4\n",
      "19    <= 0.1305964101                 25        2.5%         22         3\n",
      "20     <= 0.135118985                 25        2.5%         20         5\n",
      "21    <= 0.1381371531                 25        2.5%         22         3\n",
      "22    <= 0.1629165138                125       12.5%        115        10\n",
      "23    <= 0.1692522175                 25        2.5%         21         4\n",
      "24    <= 0.1798881853                 25        2.5%         23         2\n",
      "25             <= Inf                 50        5.0%         44         6\n",
      "   Good.Distr Bad.Distr Bad.Rate      PD     Score SumTotal concentration\n",
      "1        2.2%      4.7%    20.0% 0.00000      -Inf     1000         0.025\n",
      "2        7.7%      5.7%     8.0% 0.02406 -3.702850     1000         0.075\n",
      "3        2.3%      3.8%    16.0% 0.04053 -3.164339     1000         0.025\n",
      "4        2.6%      1.9%     8.0% 0.04621 -3.027247     1000         0.025\n",
      "5        5.3%      2.8%     6.0% 0.05376 -2.867967     1000         0.050\n",
      "6        2.3%      3.8%    16.0% 0.06094 -2.734990     1000         0.025\n",
      "7        2.2%      4.7%    20.0% 0.06465 -2.671933     1000         0.025\n",
      "8        5.0%      4.7%    10.0% 0.06996 -2.587304     1000         0.050\n",
      "9        5.4%      1.9%     4.0% 0.07721 -2.480873     1000         0.050\n",
      "10       2.3%      3.8%    16.0% 0.08242 -2.409912     1000         0.025\n",
      "11       2.6%      1.9%     8.0% 0.08577 -2.366413     1000         0.025\n",
      "12       7.4%      8.5%    12.0% 0.09258 -2.282532     1000         0.075\n",
      "13       2.6%      1.9%     8.0% 0.09869 -2.211866     1000         0.025\n",
      "14       2.5%      2.8%    12.0% 0.10165 -2.179024     1000         0.025\n",
      "15       5.3%      2.8%     6.0% 0.10617 -2.130474     1000         0.050\n",
      "16       2.3%      3.8%    16.0% 0.11154 -2.075106     1000         0.025\n",
      "17       7.7%      5.7%     8.0% 0.11788 -2.012661     1000         0.075\n",
      "18       2.3%      3.8%    16.0% 0.12572 -1.939343     1000         0.025\n",
      "19       2.5%      2.8%    12.0% 0.12917 -1.908317     1000         0.025\n",
      "20       2.2%      4.7%    20.0% 0.13251 -1.878946     1000         0.025\n",
      "21       2.5%      2.8%    12.0% 0.13675 -1.842550     1000         0.025\n",
      "22      12.9%      9.4%     8.0% 0.14999 -1.734679     1000         0.125\n",
      "23       2.3%      3.8%    16.0% 0.16602 -1.614101     1000         0.025\n",
      "24       2.6%      1.9%     8.0% 0.17508 -1.550043     1000         0.025\n",
      "25       4.9%      5.7%    12.0% 0.20082 -1.381177     1000         0.050\n",
      "        HHI\n",
      "1  0.000625\n",
      "2  0.005625\n",
      "3  0.000625\n",
      "4  0.000625\n",
      "5  0.002500\n",
      "6  0.000625\n",
      "7  0.000625\n",
      "8  0.002500\n",
      "9  0.002500\n",
      "10 0.000625\n",
      "11 0.000625\n",
      "12 0.005625\n",
      "13 0.000625\n",
      "14 0.000625\n",
      "15 0.002500\n",
      "16 0.000625\n",
      "17 0.005625\n",
      "18 0.000625\n",
      "19 0.000625\n",
      "20 0.000625\n",
      "21 0.000625\n",
      "22 0.015625\n",
      "23 0.000625\n",
      "24 0.000625\n",
      "25 0.002500\n"
     ]
    },
    {
     "data": {
      "text/html": [
       "0.055"
      ],
      "text/latex": [
       "0.055"
      ],
      "text/markdown": [
       "0.055"
      ],
      "text/plain": [
       "[1] 0.055"
      ]
     },
     "metadata": {},
     "output_type": "display_data"
    }
   ],
   "source": [
    "library(creditR, quietly = T)\n",
    "\n",
    "df <- master.scale(test_data, \"default_flag\", \"predicted_pd\")\n",
    "h <- Herfindahl.Hirschman.Index(df, \"Total.Observations\")\n",
    "h"
   ]
  },
  {
   "cell_type": "code",
   "execution_count": null,
   "id": "73531531-b02c-4e93-a35c-fc04391bdcc7",
   "metadata": {},
   "outputs": [],
   "source": []
  }
 ],
 "metadata": {
  "kernelspec": {
   "display_name": "R",
   "language": "R",
   "name": "ir"
  },
  "language_info": {
   "codemirror_mode": "r",
   "file_extension": ".r",
   "mimetype": "text/x-r-source",
   "name": "R",
   "pygments_lexer": "r",
   "version": "4.1.3"
  }
 },
 "nbformat": 4,
 "nbformat_minor": 5
}
