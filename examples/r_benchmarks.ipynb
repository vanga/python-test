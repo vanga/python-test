{
 "cells": [
  {
   "cell_type": "code",
   "execution_count": 1,
   "id": "90e4a353-8d8f-4b40-9d99-3ef6b328b9f6",
   "metadata": {},
   "outputs": [],
   "source": [
    "#if (!requireNamespace(\"BiocManager\", quietly = TRUE))\n",
    "#  install.packages(\"BiocManager\")\n",
    "#BiocManager::install(\"iterativeBMA\")\n",
    "#install.packages(\"PDtoolkit\")\n",
    "# install.packages(\"remotes\")\n",
    "# remotes::install_github(\"ayhandis/creditR\")\n",
    "\n",
    "##########\n",
    "# There doesn't appear to be an R implementation of the Spiegelhalter test.\n",
    "# The SAS implementation seems to be very limited in its scope: it doesn't let you\n",
    "# specify the hypothesized success probabilities as far as I can tell."
   ]
  },
  {
   "cell_type": "code",
   "execution_count": 2,
   "id": "63e14eda-a040-40a3-a7d9-328604c371f1",
   "metadata": {},
   "outputs": [
    {
     "name": "stderr",
     "output_type": "stream",
     "text": [
      "Warning message:\n",
      "\"replacing previous import 'lifecycle::last_warnings' by 'rlang::last_warnings' when loading 'tibble'\"\n",
      "\n",
      "Attaching package: 'dplyr'\n",
      "\n",
      "\n",
      "The following objects are masked from 'package:stats':\n",
      "\n",
      "    filter, lag\n",
      "\n",
      "\n",
      "The following objects are masked from 'package:base':\n",
      "\n",
      "    intersect, setdiff, setequal, union\n",
      "\n",
      "\n",
      "\n",
      "Attaching package: 'Hmisc'\n",
      "\n",
      "\n",
      "The following objects are masked from 'package:dplyr':\n",
      "\n",
      "    src, summarize\n",
      "\n",
      "\n",
      "The following objects are masked from 'package:base':\n",
      "\n",
      "    format.pval, units\n",
      "\n",
      "\n",
      "\n",
      "Attaching package: 'PDtoolkit'\n",
      "\n",
      "\n",
      "The following object is masked from 'package:stats':\n",
      "\n",
      "    power\n",
      "\n",
      "\n"
     ]
    }
   ],
   "source": [
    "library(PDtoolkit, quietly=T)\n",
    "\n",
    "options(warn=-1)"
   ]
  },
  {
   "cell_type": "code",
   "execution_count": 3,
   "id": "1d49a2e9-23e7-478a-8137-4b07347adf13",
   "metadata": {},
   "outputs": [],
   "source": [
    "# Import data\n",
    "test_data_main <- read.csv(\"pd_test_data_main.csv\")\n",
    "test_data_period_2 <- read.csv(\"pd_test_data_period_2.csv\")"
   ]
  },
  {
   "cell_type": "code",
   "execution_count": 4,
   "id": "fc5b2664-d81d-4cc5-a0cd-c0573e86773b",
   "metadata": {},
   "outputs": [
    {
     "data": {
      "text/html": [
       "<table class=\"dataframe\">\n",
       "<caption>A tibble: 3 × 7</caption>\n",
       "<thead>\n",
       "\t<tr><th scope=col>ratings</th><th scope=col>predicted_pd_mean</th><th scope=col>default_flag_mean</th><th scope=col>predicted_pd_sum</th><th scope=col>default_flag_sum</th><th scope=col>predicted_pd_n</th><th scope=col>default_flag_n</th></tr>\n",
       "\t<tr><th scope=col>&lt;chr&gt;</th><th scope=col>&lt;dbl&gt;</th><th scope=col>&lt;dbl&gt;</th><th scope=col>&lt;dbl&gt;</th><th scope=col>&lt;int&gt;</th><th scope=col>&lt;int&gt;</th><th scope=col>&lt;int&gt;</th></tr>\n",
       "</thead>\n",
       "<tbody>\n",
       "\t<tr><td>A</td><td>0.10342906</td><td>0.13546798</td><td>41.9922</td><td>55</td><td>406</td><td>406</td></tr>\n",
       "\t<tr><td>B</td><td>0.09952396</td><td>0.08541667</td><td>47.7715</td><td>41</td><td>480</td><td>480</td></tr>\n",
       "\t<tr><td>C</td><td>0.09571932</td><td>0.08771930</td><td>10.9120</td><td>10</td><td>114</td><td>114</td></tr>\n",
       "</tbody>\n",
       "</table>\n"
      ],
      "text/latex": [
       "A tibble: 3 × 7\n",
       "\\begin{tabular}{lllllll}\n",
       " ratings & predicted\\_pd\\_mean & default\\_flag\\_mean & predicted\\_pd\\_sum & default\\_flag\\_sum & predicted\\_pd\\_n & default\\_flag\\_n\\\\\n",
       " <chr> & <dbl> & <dbl> & <dbl> & <int> & <int> & <int>\\\\\n",
       "\\hline\n",
       "\t A & 0.10342906 & 0.13546798 & 41.9922 & 55 & 406 & 406\\\\\n",
       "\t B & 0.09952396 & 0.08541667 & 47.7715 & 41 & 480 & 480\\\\\n",
       "\t C & 0.09571932 & 0.08771930 & 10.9120 & 10 & 114 & 114\\\\\n",
       "\\end{tabular}\n"
      ],
      "text/markdown": [
       "\n",
       "A tibble: 3 × 7\n",
       "\n",
       "| ratings &lt;chr&gt; | predicted_pd_mean &lt;dbl&gt; | default_flag_mean &lt;dbl&gt; | predicted_pd_sum &lt;dbl&gt; | default_flag_sum &lt;int&gt; | predicted_pd_n &lt;int&gt; | default_flag_n &lt;int&gt; |\n",
       "|---|---|---|---|---|---|---|\n",
       "| A | 0.10342906 | 0.13546798 | 41.9922 | 55 | 406 | 406 |\n",
       "| B | 0.09952396 | 0.08541667 | 47.7715 | 41 | 480 | 480 |\n",
       "| C | 0.09571932 | 0.08771930 | 10.9120 | 10 | 114 | 114 |\n",
       "\n"
      ],
      "text/plain": [
       "  ratings predicted_pd_mean default_flag_mean predicted_pd_sum default_flag_sum\n",
       "1 A       0.10342906        0.13546798        41.9922          55              \n",
       "2 B       0.09952396        0.08541667        47.7715          41              \n",
       "3 C       0.09571932        0.08771930        10.9120          10              \n",
       "  predicted_pd_n default_flag_n\n",
       "1 406            406           \n",
       "2 480            480           \n",
       "3 114            114           "
      ]
     },
     "metadata": {},
     "output_type": "display_data"
    }
   ],
   "source": [
    "# Aggregate the results\n",
    "bin_data <- test_data_main %>%\n",
    "            group_by(ratings) %>%\n",
    "            summarise_at(vars(predicted_pd, default_flag), funs(mean(.), sum(.), n()))\n",
    "\n",
    "bin_data"
   ]
  },
  {
   "cell_type": "code",
   "execution_count": null,
   "id": "60c6b24f-1d43-4421-a107-5efb14258cdd",
   "metadata": {},
   "outputs": [],
   "source": []
  },
  {
   "cell_type": "markdown",
   "id": "9e100991-2e1e-466c-bf63-0a249b1f1c43",
   "metadata": {},
   "source": [
    "### 1. Binomial / Jeffrey's / Hoshmer-Lemeshow / z-score"
   ]
  },
  {
   "cell_type": "code",
   "execution_count": 5,
   "id": "73531531-b02c-4e93-a35c-fc04391bdcc7",
   "metadata": {},
   "outputs": [
    {
     "data": {
      "text/html": [
       "<table class=\"dataframe\">\n",
       "<caption>A data.frame: 3 × 14</caption>\n",
       "<thead>\n",
       "\t<tr><th scope=col>rating</th><th scope=col>no</th><th scope=col>nb</th><th scope=col>odr</th><th scope=col>pdc</th><th scope=col>alpha</th><th scope=col>binomial</th><th scope=col>binomial.res</th><th scope=col>jeffreys</th><th scope=col>jeffreys.res</th><th scope=col>zscore</th><th scope=col>zscore.res</th><th scope=col>hosmer.lemeshow</th><th scope=col>hosmer.lemeshow.res</th></tr>\n",
       "\t<tr><th scope=col>&lt;chr&gt;</th><th scope=col>&lt;int&gt;</th><th scope=col>&lt;int&gt;</th><th scope=col>&lt;dbl&gt;</th><th scope=col>&lt;dbl&gt;</th><th scope=col>&lt;dbl&gt;</th><th scope=col>&lt;dbl&gt;</th><th scope=col>&lt;chr&gt;</th><th scope=col>&lt;dbl&gt;</th><th scope=col>&lt;chr&gt;</th><th scope=col>&lt;dbl&gt;</th><th scope=col>&lt;chr&gt;</th><th scope=col>&lt;dbl&gt;</th><th scope=col>&lt;chr&gt;</th></tr>\n",
       "</thead>\n",
       "<tbody>\n",
       "\t<tr><td>A</td><td>406</td><td>55</td><td>0.13546798</td><td>0.10342906</td><td>0.05</td><td>0.02389227</td><td>H1: ODR &gt; PDC </td><td>0.01995857</td><td>H1: ODR &gt; PDC </td><td>0.01700479</td><td>H1: ODR &gt; PDC </td><td>0.13025</td><td>H0: ODR &lt;= PDC</td></tr>\n",
       "\t<tr><td>B</td><td>480</td><td>41</td><td>0.08541667</td><td>0.09952396</td><td>0.05</td><td>0.86744061</td><td>H0: ODR &lt;= PDC</td><td>0.84955196</td><td>H0: ODR &lt;= PDC</td><td>0.84906675</td><td>H0: ODR &lt;= PDC</td><td>0.13025</td><td>H0: ODR &lt;= PDC</td></tr>\n",
       "\t<tr><td>C</td><td>114</td><td>10</td><td>0.08771930</td><td>0.09571932</td><td>0.05</td><td>0.66055279</td><td>H0: ODR &lt;= PDC</td><td>0.59864873</td><td>H0: ODR &lt;= PDC</td><td>0.61421823</td><td>H0: ODR &lt;= PDC</td><td>0.13025</td><td>H0: ODR &lt;= PDC</td></tr>\n",
       "</tbody>\n",
       "</table>\n"
      ],
      "text/latex": [
       "A data.frame: 3 × 14\n",
       "\\begin{tabular}{llllllllllllll}\n",
       " rating & no & nb & odr & pdc & alpha & binomial & binomial.res & jeffreys & jeffreys.res & zscore & zscore.res & hosmer.lemeshow & hosmer.lemeshow.res\\\\\n",
       " <chr> & <int> & <int> & <dbl> & <dbl> & <dbl> & <dbl> & <chr> & <dbl> & <chr> & <dbl> & <chr> & <dbl> & <chr>\\\\\n",
       "\\hline\n",
       "\t A & 406 & 55 & 0.13546798 & 0.10342906 & 0.05 & 0.02389227 & H1: ODR > PDC  & 0.01995857 & H1: ODR > PDC  & 0.01700479 & H1: ODR > PDC  & 0.13025 & H0: ODR <= PDC\\\\\n",
       "\t B & 480 & 41 & 0.08541667 & 0.09952396 & 0.05 & 0.86744061 & H0: ODR <= PDC & 0.84955196 & H0: ODR <= PDC & 0.84906675 & H0: ODR <= PDC & 0.13025 & H0: ODR <= PDC\\\\\n",
       "\t C & 114 & 10 & 0.08771930 & 0.09571932 & 0.05 & 0.66055279 & H0: ODR <= PDC & 0.59864873 & H0: ODR <= PDC & 0.61421823 & H0: ODR <= PDC & 0.13025 & H0: ODR <= PDC\\\\\n",
       "\\end{tabular}\n"
      ],
      "text/markdown": [
       "\n",
       "A data.frame: 3 × 14\n",
       "\n",
       "| rating &lt;chr&gt; | no &lt;int&gt; | nb &lt;int&gt; | odr &lt;dbl&gt; | pdc &lt;dbl&gt; | alpha &lt;dbl&gt; | binomial &lt;dbl&gt; | binomial.res &lt;chr&gt; | jeffreys &lt;dbl&gt; | jeffreys.res &lt;chr&gt; | zscore &lt;dbl&gt; | zscore.res &lt;chr&gt; | hosmer.lemeshow &lt;dbl&gt; | hosmer.lemeshow.res &lt;chr&gt; |\n",
       "|---|---|---|---|---|---|---|---|---|---|---|---|---|---|\n",
       "| A | 406 | 55 | 0.13546798 | 0.10342906 | 0.05 | 0.02389227 | H1: ODR &gt; PDC  | 0.01995857 | H1: ODR &gt; PDC  | 0.01700479 | H1: ODR &gt; PDC  | 0.13025 | H0: ODR &lt;= PDC |\n",
       "| B | 480 | 41 | 0.08541667 | 0.09952396 | 0.05 | 0.86744061 | H0: ODR &lt;= PDC | 0.84955196 | H0: ODR &lt;= PDC | 0.84906675 | H0: ODR &lt;= PDC | 0.13025 | H0: ODR &lt;= PDC |\n",
       "| C | 114 | 10 | 0.08771930 | 0.09571932 | 0.05 | 0.66055279 | H0: ODR &lt;= PDC | 0.59864873 | H0: ODR &lt;= PDC | 0.61421823 | H0: ODR &lt;= PDC | 0.13025 | H0: ODR &lt;= PDC |\n",
       "\n"
      ],
      "text/plain": [
       "  rating no  nb odr        pdc        alpha binomial   binomial.res  \n",
       "1 A      406 55 0.13546798 0.10342906 0.05  0.02389227 H1: ODR > PDC \n",
       "2 B      480 41 0.08541667 0.09952396 0.05  0.86744061 H0: ODR <= PDC\n",
       "3 C      114 10 0.08771930 0.09571932 0.05  0.66055279 H0: ODR <= PDC\n",
       "  jeffreys   jeffreys.res   zscore     zscore.res     hosmer.lemeshow\n",
       "1 0.01995857 H1: ODR > PDC  0.01700479 H1: ODR > PDC  0.13025        \n",
       "2 0.84955196 H0: ODR <= PDC 0.84906675 H0: ODR <= PDC 0.13025        \n",
       "3 0.59864873 H0: ODR <= PDC 0.61421823 H0: ODR <= PDC 0.13025        \n",
       "  hosmer.lemeshow.res\n",
       "1 H0: ODR <= PDC     \n",
       "2 H0: ODR <= PDC     \n",
       "3 H0: ODR <= PDC     "
      ]
     },
     "metadata": {},
     "output_type": "display_data"
    }
   ],
   "source": [
    "\n",
    "\n",
    "# Test with PDtoolkit\n",
    "pp.testing(rating.label = bin_data$ratings,\n",
    "           pdc = bin_data$predicted_pd_mean,\n",
    "           no = bin_data$predicted_pd_n,\n",
    "           nb = bin_data$default_flag_sum, \n",
    "           alpha = 0.05)"
   ]
  },
  {
   "cell_type": "markdown",
   "id": "b290f6bb-9eb6-4cfc-ab2f-7783830dd836",
   "metadata": {},
   "source": [
    "### 2. Brier Score"
   ]
  },
  {
   "cell_type": "code",
   "execution_count": 6,
   "id": "ccf91677-87ca-41c2-89b3-dfb1373a0ba0",
   "metadata": {},
   "outputs": [
    {
     "name": "stderr",
     "output_type": "stream",
     "text": [
      "\n",
      "Attaching package: 'robustbase'\n",
      "\n",
      "\n",
      "The following object is masked from 'package:survival':\n",
      "\n",
      "    heart\n",
      "\n",
      "\n",
      "Scalable Robust Estimators with High Breakdown Point (version 1.7-1)\n",
      "\n",
      "\n",
      "\n",
      "Attaching package: 'BiocGenerics'\n",
      "\n",
      "\n",
      "The following objects are masked from 'package:dplyr':\n",
      "\n",
      "    combine, intersect, setdiff, union\n",
      "\n",
      "\n",
      "The following objects are masked from 'package:stats':\n",
      "\n",
      "    IQR, mad, sd, var, xtabs\n",
      "\n",
      "\n",
      "The following objects are masked from 'package:base':\n",
      "\n",
      "    anyDuplicated, append, as.data.frame, basename, cbind, colnames,\n",
      "    dirname, do.call, duplicated, eval, evalq, Filter, Find, get, grep,\n",
      "    grepl, intersect, is.unsorted, lapply, Map, mapply, match, mget,\n",
      "    order, paste, pmax, pmax.int, pmin, pmin.int, Position, rank,\n",
      "    rbind, Reduce, rownames, sapply, setdiff, sort, table, tapply,\n",
      "    union, unique, unsplit, which.max, which.min\n",
      "\n",
      "\n",
      "Welcome to Bioconductor\n",
      "\n",
      "    Vignettes contain introductory material; view with\n",
      "    'browseVignettes()'. To cite Bioconductor, see\n",
      "    'citation(\"Biobase\")', and for packages 'citation(\"pkgname\")'.\n",
      "\n",
      "\n",
      "\n",
      "Attaching package: 'Biobase'\n",
      "\n",
      "\n",
      "The following object is masked from 'package:robustbase':\n",
      "\n",
      "    rowMedians\n",
      "\n",
      "\n",
      "The following object is masked from 'package:Hmisc':\n",
      "\n",
      "    contents\n",
      "\n",
      "\n"
     ]
    },
    {
     "data": {
      "text/html": [
       "0.00128950849979173"
      ],
      "text/latex": [
       "0.00128950849979173"
      ],
      "text/markdown": [
       "0.00128950849979173"
      ],
      "text/plain": [
       "[1] 0.001289508"
      ]
     },
     "metadata": {},
     "output_type": "display_data"
    }
   ],
   "source": [
    "library(iterativeBMA, quietly = T)\n",
    "\n",
    "brier.score(bin_data$predicted_pd_mean, bin_data$default_flag_mean)"
   ]
  },
  {
   "cell_type": "markdown",
   "id": "85356986-1054-48c3-872b-acf6f6ac83a2",
   "metadata": {},
   "source": [
    "### 3. Herfindahl"
   ]
  },
  {
   "cell_type": "code",
   "execution_count": 7,
   "id": "de64f6e1-72ea-4fa2-8962-bfdc7caeefee",
   "metadata": {},
   "outputs": [
    {
     "name": "stderr",
     "output_type": "stream",
     "text": [
      "\n",
      "Attaching package: 'MLmetrics'\n",
      "\n",
      "\n",
      "The following object is masked from 'package:base':\n",
      "\n",
      "    Recall\n",
      "\n",
      "\n",
      "\n",
      "Attaching package: 'creditR'\n",
      "\n",
      "\n",
      "The following object is masked from 'package:PDtoolkit':\n",
      "\n",
      "    scaled.score\n",
      "\n",
      "\n"
     ]
    },
    {
     "name": "stdout",
     "output_type": "stream",
     "text": [
      "\u001b[90m# A tibble: 3 x 10\u001b[39m\n",
      "  ratings predicted_pd_mean default_flag_mean predicted_pd_sum default_flag_sum\n",
      "  \u001b[3m\u001b[90m<chr>\u001b[39m\u001b[23m               \u001b[3m\u001b[90m<dbl>\u001b[39m\u001b[23m             \u001b[3m\u001b[90m<dbl>\u001b[39m\u001b[23m            \u001b[3m\u001b[90m<dbl>\u001b[39m\u001b[23m            \u001b[3m\u001b[90m<int>\u001b[39m\u001b[23m\n",
      "\u001b[90m1\u001b[39m A                  0.103             0.135              42.0               55\n",
      "\u001b[90m2\u001b[39m B                  0.099\u001b[4m5\u001b[24m            0.085\u001b[4m4\u001b[24m             47.8               41\n",
      "\u001b[90m3\u001b[39m C                  0.095\u001b[4m7\u001b[24m            0.087\u001b[4m7\u001b[24m             10.9               10\n",
      "\u001b[90m# ... with 5 more variables: predicted_pd_n <int>, default_flag_n <int>,\u001b[39m\n",
      "\u001b[90m#   SumTotal <int>, concentration <df[,1]>, HHI <df[,1]>\u001b[39m\n"
     ]
    },
    {
     "data": {
      "text/html": [
       "0.408232"
      ],
      "text/latex": [
       "0.408232"
      ],
      "text/markdown": [
       "0.408232"
      ],
      "text/plain": [
       "[1] 0.408232"
      ]
     },
     "metadata": {},
     "output_type": "display_data"
    }
   ],
   "source": [
    "library(creditR, quietly = T)\n",
    "\n",
    "h <- Herfindahl.Hirschman.Index(bin_data, \"default_flag_n\")\n",
    "h"
   ]
  },
  {
   "cell_type": "markdown",
   "id": "e2c107fc-efe9-46ab-af27-28ddea12e962",
   "metadata": {},
   "source": [
    "### 4. Spiegelhalter"
   ]
  },
  {
   "cell_type": "code",
   "execution_count": 8,
   "id": "f7a23bf6-447e-4fb1-961e-1eaaf7bd1e59",
   "metadata": {},
   "outputs": [
    {
     "name": "stdout",
     "output_type": "stream",
     "text": [
      "[1] 0.01840817\n",
      "[1] \"fail to reject. calibrated\"\n",
      "z score:  0.01840817 \n",
      "p value:  0.4926566 \n"
     ]
    },
    {
     "data": {
      "text/html": [
       "0.0184081680486907"
      ],
      "text/latex": [
       "0.0184081680486907"
      ],
      "text/markdown": [
       "0.0184081680486907"
      ],
      "text/plain": [
       "[1] 0.01840817"
      ]
     },
     "metadata": {},
     "output_type": "display_data"
    }
   ],
   "source": [
    "Spiegelhalter_z = function(y, prob){\n",
    "  alpha = 0.05\n",
    "  z_score = sum((y-prob)*(1-2*prob))/sqrt(sum(((1-2*prob)^2)*prob*(1-prob)))\n",
    "  print(z_score)\n",
    "  if (abs(z_score) > qnorm(1-alpha/2)){\n",
    "    print('reject null. NOT calibrated')\n",
    "  } else {\n",
    "    print('fail to reject. calibrated')\n",
    "  }\n",
    "  cat('z score: ', z_score, '\\n')\n",
    "  cat('p value: ', 1-pnorm(abs(z_score)), '\\n')\n",
    "    \n",
    "  return(z_score)\n",
    "}\n",
    "\n",
    "Spiegelhalter_z(bin_data$default_flag_mean, bin_data$predicted_pd_mean)\n"
   ]
  },
  {
   "cell_type": "markdown",
   "id": "0e6417ab-7161-458a-b600-f217fc7cf0e7",
   "metadata": {},
   "source": [
    "### 5. ROC calculation"
   ]
  },
  {
   "cell_type": "code",
   "execution_count": 9,
   "id": "fdfacf84-96ac-4bdf-a684-bd32a179bf86",
   "metadata": {},
   "outputs": [
    {
     "name": "stderr",
     "output_type": "stream",
     "text": [
      "Type 'citation(\"pROC\")' for a citation.\n",
      "\n",
      "\n",
      "Attaching package: 'pROC'\n",
      "\n",
      "\n",
      "The following object is masked from 'package:BiocGenerics':\n",
      "\n",
      "    var\n",
      "\n",
      "\n",
      "The following objects are masked from 'package:stats':\n",
      "\n",
      "    cov, smooth, var\n",
      "\n",
      "\n",
      "Setting levels: control = 0, case = 1\n",
      "\n",
      "Setting direction: controls > cases\n",
      "\n"
     ]
    },
    {
     "data": {
      "text/html": [
       "0.500854754970242"
      ],
      "text/latex": [
       "0.500854754970242"
      ],
      "text/markdown": [
       "0.500854754970242"
      ],
      "text/plain": [
       "[1] 0.5008548"
      ]
     },
     "metadata": {},
     "output_type": "display_data"
    }
   ],
   "source": [
    "library(pROC, quietly = T)\n",
    "roc_obj <- roc(test_data_main$default_flag, test_data_main$predicted_pd)\n",
    "1 - auc(roc_obj)"
   ]
  },
  {
   "cell_type": "markdown",
   "id": "ac475845-791b-4dd3-a3bf-22a8d80c3af3",
   "metadata": {},
   "source": [
    "### 6. CLAR"
   ]
  },
  {
   "cell_type": "code",
   "execution_count": 20,
   "id": "b7df0cb7-e7d6-4b99-97c0-6895c6a5dc21",
   "metadata": {},
   "outputs": [
    {
     "data": {
      "text/html": [
       "0.84"
      ],
      "text/latex": [
       "0.84"
      ],
      "text/markdown": [
       "0.84"
      ],
      "text/plain": [
       "[1] 0.84"
      ]
     },
     "metadata": {},
     "output_type": "display_data"
    }
   ],
   "source": [
    "# https://www.rdocumentation.org/packages/VUROCS/versions/1.0/topics/clar\n",
    "\n",
    "#' @title Cumulative LGD Accuracy Ratio\n",
    "#' @description Calculates for a vector of realized categories \\code{y} and a vector of predicted categories \\code{hx} the cumulative LGD accuarcy ratio (CLAR) according to Ozdemir and Miu 2009.\n",
    "#' @param hx a vector of  predicted values.\n",
    "#' @param y a vector of  realized values.\n",
    "#' @return The function returns the CLAR for a vector of realized categories \\code{y} and a vector of predicted categories \\code{hx}.\n",
    "#' @examples clar(rep(1:5, each = 3), c(3, 3, 3, rep(2:5, each = 3)))\n",
    "#' @references Ozdemir, B., Miu, P., 2009. Basel II Implementation. A Guide to Developing and Validating a Compliant Internal Risk Rating System. McGraw-Hill, USA.\n",
    "\n",
    "clar <- function(y, hx) {\n",
    "    if (any(is.na(hx)) | any(is.na(y))) {\n",
    "        stop(\"\\n both 'hx' and 'y' must not contain NA values\")\n",
    "    }\n",
    "\n",
    "    if (length(hx) != length(y)) {\n",
    "        stop(\"\\n both 'hx' and 'y' must be of the same length\")\n",
    "    }\n",
    "\n",
    "    nx <- length(hx)\n",
    "    classes <- sort(union(unique(hx), unique(y)), decreasing = TRUE)\n",
    "    num <- rep(NA, length(classes))\n",
    "    for (i in 1:length(classes)) {\n",
    "        num[i] <- sum(hx == classes[i])\n",
    "    }\n",
    "    cnum <- cumsum(num)\n",
    "    index <- order(hx, decreasing = TRUE)\n",
    "    hx <- hx[index]\n",
    "    y <- y[index]\n",
    "    corr <- rep(0, length(classes))\n",
    "    for (i in 1:(length(classes) - 1)) {\n",
    "        if (cnum[i] > 0) corr[i] <- sum(y[1:cnum[i]] >= classes[i])\n",
    "    }\n",
    "    corr <- corr / nx\n",
    "    corr[length(classes)] <- 1\n",
    "    obs <- cnum / nx\n",
    "\n",
    "    res <- obs[1] * corr[1] / 2\n",
    "    for (i in 2:length(corr)) {\n",
    "        res <- res + (corr[i] - corr[i - 1]) * (obs[i] - obs[i - 1]) / 2 + (obs[i] - obs[i - 1]) * corr[i - 1]\n",
    "    }\n",
    "    res * 2\n",
    "}\n",
    "\n",
    "lgd_main <- read.csv(\"lgd_dataset.csv\")\n",
    "\n",
    "clar(lgd_main$realised_outcome, lgd_main$predicted_outcome)"
   ]
  },
  {
   "cell_type": "code",
   "execution_count": 78,
   "id": "ee4480dc-5f6e-4620-b314-60fe23ad50d3",
   "metadata": {},
   "outputs": [
    {
     "data": {
      "text/html": [
       "<table class=\"dataframe\">\n",
       "<caption>A data.frame: 15 × 2</caption>\n",
       "<thead>\n",
       "\t<tr><th scope=col>realised_outcome</th><th scope=col>predicted_outcome</th></tr>\n",
       "\t<tr><th scope=col>&lt;int&gt;</th><th scope=col>&lt;int&gt;</th></tr>\n",
       "</thead>\n",
       "<tbody>\n",
       "\t<tr><td>1</td><td>3</td></tr>\n",
       "\t<tr><td>1</td><td>3</td></tr>\n",
       "\t<tr><td>1</td><td>3</td></tr>\n",
       "\t<tr><td>2</td><td>2</td></tr>\n",
       "\t<tr><td>2</td><td>2</td></tr>\n",
       "\t<tr><td>2</td><td>2</td></tr>\n",
       "\t<tr><td>3</td><td>3</td></tr>\n",
       "\t<tr><td>3</td><td>3</td></tr>\n",
       "\t<tr><td>3</td><td>3</td></tr>\n",
       "\t<tr><td>4</td><td>4</td></tr>\n",
       "\t<tr><td>4</td><td>4</td></tr>\n",
       "\t<tr><td>4</td><td>4</td></tr>\n",
       "\t<tr><td>5</td><td>5</td></tr>\n",
       "\t<tr><td>5</td><td>5</td></tr>\n",
       "\t<tr><td>5</td><td>5</td></tr>\n",
       "</tbody>\n",
       "</table>\n"
      ],
      "text/latex": [
       "A data.frame: 15 × 2\n",
       "\\begin{tabular}{ll}\n",
       " realised\\_outcome & predicted\\_outcome\\\\\n",
       " <int> & <int>\\\\\n",
       "\\hline\n",
       "\t 1 & 3\\\\\n",
       "\t 1 & 3\\\\\n",
       "\t 1 & 3\\\\\n",
       "\t 2 & 2\\\\\n",
       "\t 2 & 2\\\\\n",
       "\t 2 & 2\\\\\n",
       "\t 3 & 3\\\\\n",
       "\t 3 & 3\\\\\n",
       "\t 3 & 3\\\\\n",
       "\t 4 & 4\\\\\n",
       "\t 4 & 4\\\\\n",
       "\t 4 & 4\\\\\n",
       "\t 5 & 5\\\\\n",
       "\t 5 & 5\\\\\n",
       "\t 5 & 5\\\\\n",
       "\\end{tabular}\n"
      ],
      "text/markdown": [
       "\n",
       "A data.frame: 15 × 2\n",
       "\n",
       "| realised_outcome &lt;int&gt; | predicted_outcome &lt;int&gt; |\n",
       "|---|---|\n",
       "| 1 | 3 |\n",
       "| 1 | 3 |\n",
       "| 1 | 3 |\n",
       "| 2 | 2 |\n",
       "| 2 | 2 |\n",
       "| 2 | 2 |\n",
       "| 3 | 3 |\n",
       "| 3 | 3 |\n",
       "| 3 | 3 |\n",
       "| 4 | 4 |\n",
       "| 4 | 4 |\n",
       "| 4 | 4 |\n",
       "| 5 | 5 |\n",
       "| 5 | 5 |\n",
       "| 5 | 5 |\n",
       "\n"
      ],
      "text/plain": [
       "   realised_outcome predicted_outcome\n",
       "1  1                3                \n",
       "2  1                3                \n",
       "3  1                3                \n",
       "4  2                2                \n",
       "5  2                2                \n",
       "6  2                2                \n",
       "7  3                3                \n",
       "8  3                3                \n",
       "9  3                3                \n",
       "10 4                4                \n",
       "11 4                4                \n",
       "12 4                4                \n",
       "13 5                5                \n",
       "14 5                5                \n",
       "15 5                5                "
      ]
     },
     "metadata": {},
     "output_type": "display_data"
    }
   ],
   "source": [
    "lgd_main"
   ]
  },
  {
   "cell_type": "code",
   "execution_count": 16,
   "id": "42176255-f5f1-4f08-bdd9-5af81fa0ad6b",
   "metadata": {},
   "outputs": [
    {
     "data": {
      "text/html": [
       "<style>\n",
       ".list-inline {list-style: none; margin:0; padding: 0}\n",
       ".list-inline>li {display: inline-block}\n",
       ".list-inline>li:not(:last-child)::after {content: \"\\00b7\"; padding: 0 .5ex}\n",
       "</style>\n",
       "<ol class=list-inline><li>1</li><li>1</li><li>1</li><li>2</li><li>2</li><li>2</li><li>3</li><li>3</li><li>3</li><li>4</li><li>4</li><li>4</li><li>5</li><li>5</li><li>5</li></ol>\n"
      ],
      "text/latex": [
       "\\begin{enumerate*}\n",
       "\\item 1\n",
       "\\item 1\n",
       "\\item 1\n",
       "\\item 2\n",
       "\\item 2\n",
       "\\item 2\n",
       "\\item 3\n",
       "\\item 3\n",
       "\\item 3\n",
       "\\item 4\n",
       "\\item 4\n",
       "\\item 4\n",
       "\\item 5\n",
       "\\item 5\n",
       "\\item 5\n",
       "\\end{enumerate*}\n"
      ],
      "text/markdown": [
       "1. 1\n",
       "2. 1\n",
       "3. 1\n",
       "4. 2\n",
       "5. 2\n",
       "6. 2\n",
       "7. 3\n",
       "8. 3\n",
       "9. 3\n",
       "10. 4\n",
       "11. 4\n",
       "12. 4\n",
       "13. 5\n",
       "14. 5\n",
       "15. 5\n",
       "\n",
       "\n"
      ],
      "text/plain": [
       " [1] 1 1 1 2 2 2 3 3 3 4 4 4 5 5 5"
      ]
     },
     "metadata": {},
     "output_type": "display_data"
    }
   ],
   "source": [
    "(rep(1:5,each=3))"
   ]
  },
  {
   "cell_type": "code",
   "execution_count": 17,
   "id": "8d4b5838-ae25-4a47-8d59-19eabdfdd6ab",
   "metadata": {},
   "outputs": [
    {
     "data": {
      "text/html": [
       "<style>\n",
       ".list-inline {list-style: none; margin:0; padding: 0}\n",
       ".list-inline>li {display: inline-block}\n",
       ".list-inline>li:not(:last-child)::after {content: \"\\00b7\"; padding: 0 .5ex}\n",
       "</style>\n",
       "<ol class=list-inline><li>3</li><li>3</li><li>3</li><li>2</li><li>2</li><li>2</li><li>3</li><li>3</li><li>3</li><li>4</li><li>4</li><li>4</li><li>5</li><li>5</li><li>5</li></ol>\n"
      ],
      "text/latex": [
       "\\begin{enumerate*}\n",
       "\\item 3\n",
       "\\item 3\n",
       "\\item 3\n",
       "\\item 2\n",
       "\\item 2\n",
       "\\item 2\n",
       "\\item 3\n",
       "\\item 3\n",
       "\\item 3\n",
       "\\item 4\n",
       "\\item 4\n",
       "\\item 4\n",
       "\\item 5\n",
       "\\item 5\n",
       "\\item 5\n",
       "\\end{enumerate*}\n"
      ],
      "text/markdown": [
       "1. 3\n",
       "2. 3\n",
       "3. 3\n",
       "4. 2\n",
       "5. 2\n",
       "6. 2\n",
       "7. 3\n",
       "8. 3\n",
       "9. 3\n",
       "10. 4\n",
       "11. 4\n",
       "12. 4\n",
       "13. 5\n",
       "14. 5\n",
       "15. 5\n",
       "\n",
       "\n"
      ],
      "text/plain": [
       " [1] 3 3 3 2 2 2 3 3 3 4 4 4 5 5 5"
      ]
     },
     "metadata": {},
     "output_type": "display_data"
    }
   ],
   "source": [
    "c(3,3,3,rep(2:5,each=3))"
   ]
  },
  {
   "cell_type": "markdown",
   "id": "55619e88-80f8-43ee-ac40-03ec822eafec",
   "metadata": {},
   "source": [
    "### 7. Loss Capture Ratio"
   ]
  },
  {
   "cell_type": "code",
   "execution_count": null,
   "id": "f7d35988-63fd-4e5e-922f-9b176950a545",
   "metadata": {},
   "outputs": [],
   "source": [
    "# https://github.com/selva86/InformationValue"
   ]
  },
  {
   "cell_type": "code",
   "execution_count": null,
   "id": "d2c9062a-5b7d-4c2b-ade5-c7b621b14b51",
   "metadata": {},
   "outputs": [],
   "source": []
  },
  {
   "cell_type": "code",
   "execution_count": null,
   "id": "a1beb5d8-30b7-4c55-8bc2-6351e923ba14",
   "metadata": {},
   "outputs": [],
   "source": []
  },
  {
   "cell_type": "code",
   "execution_count": null,
   "id": "22a255b1-cb9a-4c5a-8aac-e89d7948fc9d",
   "metadata": {},
   "outputs": [],
   "source": []
  },
  {
   "cell_type": "markdown",
   "id": "fee19e16-1fbb-4bf3-86ae-af4cdb594a94",
   "metadata": {},
   "source": [
    "### 8. Information Value"
   ]
  },
  {
   "cell_type": "code",
   "execution_count": 21,
   "id": "ca35eef3-7e82-4912-82e4-5d7d522eae53",
   "metadata": {},
   "outputs": [],
   "source": [
    "# --------------------------------------------------------------------------------------------\n",
    "# Copyright (c) Microsoft Corporation. All rights reserved.\n",
    "# Licensed under the MIT License. See LICENSE.txt in the project root for license information.\n",
    "# --------------------------------------------------------------------------------------------\n",
    "\n",
    "#' @title\n",
    "#' Calculate Weight of Evidence (WOE) and Information Value (IV) between a\n",
    "#' single predictor and a single outcome variable.\n",
    "#'\n",
    "#' @description\n",
    "#' Calculates Weight of Evidence (WOE) and Information Value (IV) between a\n",
    "#' single predictor and a single outcome variable. This function implements the\n",
    "#' common Information Value calculations whilst maintaining the minimum reliance\n",
    "#' on external dependencies. Use `map_IV()` for the equivalent of\n",
    "#' `Information::create_infotables()`, which performs calculations for multiple\n",
    "#' predictors and a single outcome variable.\n",
    "#'\n",
    "#' @details\n",
    "#' The approach used mirrors the one used in `Information::create_infotables()`.\n",
    "#'\n",
    "#' @param data Data frame containing the data.\n",
    "#' @param outcome String containing the name of the outcome variable.\n",
    "#' @param predictor String containing the name of the predictor variable.\n",
    "#' @param bins Numeric value representing the number of bins to use.\n",
    "#'\n",
    "#' @import dplyr\n",
    "#'\n",
    "#' @return A data frame is returned as an output.\n",
    "#'\n",
    "calculate_IV <- function(data,\n",
    "                         outcome,\n",
    "                         predictor,\n",
    "                         bins){\n",
    "\n",
    "  pred_var <- data[[predictor]]\n",
    "  outc_var <- data[[outcome]]\n",
    "\n",
    "  # Check inputs\n",
    "  if(sum(is.na(outc_var)) > 0){\n",
    "\n",
    "    stop(\n",
    "      glue::glue(\n",
    "        \"dependent variable {outcome} has missing values in the input training data frame\"\n",
    "      )\n",
    "      )\n",
    "  }\n",
    "\n",
    "  # Compute q\n",
    "  q <- stats::quantile(\n",
    "    pred_var,\n",
    "    probs = c(1:(bins - 1) / bins),\n",
    "    na.rm = TRUE,\n",
    "    type = 3\n",
    "    )\n",
    "\n",
    "  # Compute cuts\n",
    "  cuts <- unique(q)\n",
    "\n",
    "  # Compute intervals\n",
    "  intervals <-\n",
    "    findInterval(\n",
    "      pred_var,\n",
    "      vec = cuts,\n",
    "      rightmost.closed = FALSE)\n",
    "\n",
    "  # Compute cut_table\n",
    "  cut_table <-\n",
    "    table(\n",
    "      intervals,\n",
    "      outc_var) %>%\n",
    "    as.data.frame.matrix()\n",
    "\n",
    "  ## get min/max\n",
    "  cut_table_2 <-\n",
    "    data.frame(\n",
    "    var = pred_var,\n",
    "    intervals\n",
    "  ) %>%\n",
    "    group_by(intervals) %>%\n",
    "    summarise(\n",
    "      min = min(var, na.rm = TRUE) %>% round(digits = 1),\n",
    "      max = max(var, na.rm = TRUE) %>% round(digits = 1),\n",
    "      n = n(),\n",
    "      .groups = \"drop\"\n",
    "    ) %>%\n",
    "    mutate(!!sym(predictor) :=\n",
    "    glue::glue(\"[{round(min, digits = 1)},{round(max, digits = 1)}]\")) %>%\n",
    "    mutate(percentage = n / sum(n)) %>%\n",
    "    select(!!sym(predictor), intervals, n, percentage)\n",
    "\n",
    "  # Create variables that are double\n",
    "  cut_table_1 <- as.numeric(cut_table$`1`)\n",
    "  cut_table_0 <- as.numeric(cut_table$`0`)\n",
    "\n",
    "  # Non-events in group\n",
    "  n_non_event <- cut_table_1 * sum(cut_table_0) # t$y_1*sum_y_0\n",
    "  n_yes_event <- cut_table_0 * sum(cut_table_1) # t$y_0*sum_y_1\n",
    "\n",
    "  # Compute WOE\n",
    "\n",
    "  cut_table_2$WOE <-\n",
    "    ifelse(\n",
    "      cut_table$`1` > 0 & cut_table$`0` > 0, # Both positive\n",
    "      log(n_non_event / n_yes_event), # % of non-events divided by % of events\n",
    "           0) # Otherwise impute 0\n",
    "\n",
    "  # Compute IV_weight\n",
    "  p1 <- cut_table$`1` / sum(cut_table$`1`)\n",
    "  p0 <- cut_table$`0` / sum(cut_table$`0`)\n",
    "\n",
    "  cut_table_2$IV_weight <- p1 - p0\n",
    "  cut_table_2$IV <- cut_table_2$WOE * cut_table_2$IV_weight\n",
    "\n",
    "  cut_table_2 %>%\n",
    "    mutate(IV = cumsum(IV)) %>%\n",
    "    # Maintain consistency with `Information::create_infotables()`\n",
    "    select(\n",
    "      !!sym(predictor),\n",
    "      N = \"n\",\n",
    "      Percent = \"percentage\",\n",
    "      WOE,\n",
    "      IV)\n",
    "}\n",
    "\n",
    "#' @title\n",
    "#' Calculate Weight of Evidence (WOE) and Information Value (IV) between\n",
    "#' multiple predictors and a single outcome variable, returning a list of\n",
    "#' statistics.\n",
    "#'\n",
    "#' @description\n",
    "#' This is a wrapper around `calculate_IV()` to loop through multiple predictors\n",
    "#' and calculate their Weight of Evidence (WOE) and Information Value (IV) with\n",
    "#' respect to an outcome variable.\n",
    "#'\n",
    "#' @details\n",
    "#' The approach used mirrors the one used in `Information::create_infotables()`.\n",
    "#'\n",
    "#' @param data Data frame containing the data.\n",
    "#' @param outcome String containing the name of the outcome variable.\n",
    "#' @param predictors Character vector containing the names of the predictor\n",
    "#'   variables. If `NULL` (default) is supplied, all numeric variables in the\n",
    "#'   data will be used.\n",
    "#' @param bins Numeric value representing the number of bins to use. Defaults to\n",
    "#'   10.\n",
    "#'\n",
    "#' @import dplyr\n",
    "#'\n",
    "#' @return A list of data frames is returned as an output. The first layer of\n",
    "#' the list contains `Tables` and `Summary`:\n",
    "#'   -  `Tables` is a list of data frames containing the WOE and cumulative sum\n",
    "#'   IV for each predictor.\n",
    "#'   - `Summary` is a single data frame containing the IV for all predictors.\n",
    "#'\n",
    "map_IV <- function(data,\n",
    "                   predictors = NULL,\n",
    "                   outcome,\n",
    "                   bins = 10){\n",
    "\n",
    "  if(is.null(predictors)){\n",
    "\n",
    "    predictors <-\n",
    "      data %>%\n",
    "      select(-!!sym(outcome)) %>%\n",
    "      select(\n",
    "        where(is.numeric)\n",
    "      ) %>%\n",
    "      names()\n",
    "  }\n",
    "\n",
    "  # List of individual tables\n",
    "  Tables <-\n",
    "    predictors %>%\n",
    "    purrr::map(function(pred){\n",
    "\n",
    "      calculate_IV(\n",
    "        data = data,\n",
    "        outcome = outcome,\n",
    "        predictor = pred,\n",
    "        bins = bins\n",
    "      )\n",
    "    }) %>%\n",
    "    purrr::set_names(\n",
    "      nm = purrr::map(\n",
    "        .,\n",
    "        function(df){\n",
    "          names(df)[[1]]\n",
    "        }\n",
    "      )\n",
    "    )\n",
    "\n",
    "  # Compile Summary Table\n",
    "  Summary <-\n",
    "    list(\"df\" = Tables,\n",
    "         \"names\" = names(Tables)) %>%\n",
    "    purrr::pmap(function(df, names){\n",
    "\n",
    "      IV_final <-\n",
    "        df %>%\n",
    "        slice(nrow(df)) %>%\n",
    "        pull(IV)\n",
    "\n",
    "      data.frame(\n",
    "        Variable = names,\n",
    "        IV = IV_final\n",
    "      )\n",
    "    }) %>%\n",
    "    bind_rows() %>%\n",
    "    arrange(desc(IV))\n",
    "\n",
    "  # Reorder and combine list\n",
    "  c(\n",
    "    list(\"Tables\" = Tables[Summary$Variable]), # Reordered\n",
    "    list(\"Summary\" = Summary)\n",
    "  )\n",
    "}\n",
    "\n",
    "\n",
    "pd_german_data <- read.csv(\"german_data.csv\")\n"
   ]
  },
  {
   "cell_type": "code",
   "execution_count": null,
   "id": "89dddfe1-f2ea-4938-9805-7a57d149792e",
   "metadata": {},
   "outputs": [],
   "source": [
    "# https://raw.githubusercontent.com/siyuany/ScoringModels/master/ScoringModels/R/woe.R\n",
    "\n",
    "#' Weight of Evidence\n",
    "#'\n",
    "#' @description \\code{woe} calculates the weight of evidence of each level in a\n",
    "#' discrete variable with respect to a response.\n",
    "#'\n",
    "#' @param predictor a vector representing the predictor\n",
    "#' @param response  a vecotr representing the response\n",
    "#' @param df        a \\code{data.frame} containing the predictor and the\n",
    "#' response\n",
    "#' @param x         the name of the predictor in \\code{df}\n",
    "#' @param y         the name of the response in \\code{df}\n",
    "#' @param good      the value representing 'good' in \\code{response}, other\n",
    "#' values representing bad.\n",
    "#' @return a \\code{data.frame} showing the WoE of each level, and encapsulated\n",
    "#' as a \\code{woe} object\n",
    "#'\n",
    "#' @examples\n",
    "#' \\dontrun{\n",
    "#' library(ISLR)\n",
    "#' # data.frame generic\n",
    "#' woe(Default, 'student', 'default', good = 'No')\n",
    "#' # default generic\n",
    "#' woe(Default$student, Default$default, good = 'No')\n",
    "#' SummaryWoe(Default, 'default', good = 'No')\n",
    "#' }\n",
    "#'\n",
    "#' @export\n",
    "\n",
    "woe <- function(...) {\n",
    "    UseMethod('woe')\n",
    "}\n",
    "\n",
    "#' @describeIn woe default generic\n",
    "#' @export\n",
    "woe.default <- function(predictor, response, good = NA, ...) {\n",
    "    y_levels <- sort(unique(response))\n",
    "    if (length(y_levels) <= 1)\n",
    "        stop(\"y is a vector of a unique value.\")\n",
    "    if (is.na(good)) {\n",
    "        good <- y_levels[1]\n",
    "    }\n",
    "    if (!good %in% y_levels)\n",
    "        stop('good does not exist in response')\n",
    "    if (length(predictor) != length(response))\n",
    "        stop('predictor should have the same length as response')\n",
    "    include <- !(is.na(predictor) | is.na(response))\n",
    "    response <- response[include]\n",
    "    predictor <- predictor[include]\n",
    "\n",
    "    y <- ifelse(response == good, 'Good', 'Bad')\n",
    "\n",
    "    tbl <- tapply(y, predictor, function(z) {\n",
    "        c(Good = sum(z == 'Good'),\n",
    "          Bad  = sum(z == 'Bad'))\n",
    "    })\n",
    "    tbl <- as.data.frame(do.call(rbind, tbl), stringsAsFactors = FALSE)\n",
    "    tbl <- rbind(tbl, Total = apply(tbl, 2, sum))\n",
    "    tbl <- cbind(Levels = rownames(tbl), tbl)\n",
    "\n",
    "    tbl$GoodR <- tbl$Good / tbl['Total', 'Good']\n",
    "    tbl$BadR <- tbl$Bad / tbl['Total', 'Bad']\n",
    "    tbl$WoE <- log(tbl$GoodR / tbl$BadR)\n",
    "    tbl$IV <- (tbl$GoodR - tbl$BadR) * tbl$WoE\n",
    "    tbl$IV[is.infinite(tbl$IV)] <- NA\n",
    "    tbl$Percentage <- (tbl$Good + tbl$Bad) / sum(tbl['Total', c('Good', 'Bad')])\n",
    "    tbl['Total', 'IV'] <- sum(tbl$IV, na.rm = TRUE)\n",
    "    class(tbl) <- c('woe', class(tbl))\n",
    "    rownames(tbl) <- NULL\n",
    "    tbl\n",
    "}\n",
    "\n",
    "#' @describeIn woe generic for data.frame\n",
    "#' @export\n",
    "woe.data.frame <- function(df, x, y, ...) {\n",
    "    if (!x %in% colnames(df))\n",
    "        stop(\"x does not exist in df\")\n",
    "    if (!y %in% colnames(df))\n",
    "        stop(\"y does not exist in df\")\n",
    "\n",
    "    woe.default(df[, x], df[, y], ...)\n",
    "}\n",
    "\n",
    "\n",
    "#' @rdname woe\n",
    "#' @export\n",
    "SummaryWoe <- function(df, y, ...) {\n",
    "    predictors <- colnames(df)\n",
    "    if (!any(y == predictors)) {\n",
    "        stop(\"'y' does not exist in df\")\n",
    "    }\n",
    "\n",
    "    predictors <- predictors[predictors != y]\n",
    "    summary_woe <- list()\n",
    "    for (predictor in predictors) {\n",
    "        if (is.factor(df[, predictor])) {\n",
    "            .woe <- woe(df, predictor, y, ...)\n",
    "            summary_woe[[predictor]] <- list(woe = .woe,\n",
    "                                             iv  = .woe[.woe$Levels == \"Total\",\n",
    "                                                        \"IV\"])\n",
    "        }\n",
    "\n",
    "        if (is.numeric(df[, predictor])) {\n",
    "            .cut <- bin(df, predictor, y, result = \"cutpoints\", ...)\n",
    "            .woe <- woe(label.numeric(df[, predictor], .cut),\n",
    "                        df[, y], ...)\n",
    "            summary_woe[[predictor]] <- list(woe  = .woe,\n",
    "                                             iv   = .woe[.woe$Levels == \"Total\",\n",
    "                                                         \"IV\"],\n",
    "                                             cutp = .cut)\n",
    "        }\n",
    "    }\n",
    "\n",
    "    class(summary_woe) <- c('Summary.WoE', class(summary_woe))\n",
    "    summary_woe\n",
    "}\n",
    "\n",
    "#' @rdname woe\n",
    "#' @param summary_woe result given by SummaryWoe\n",
    "#' @importFrom stringr str_length\n",
    "#' @export\n",
    "ReplaceWoe <- function(df, y, summary_woe) {\n",
    "    columns <- colnames(df)\n",
    "    if (!any(y == columns)) {\n",
    "        stop(\"'y' does not exist in df\")\n",
    "    }\n",
    "    if (class(summary_woe)[1] != 'Summary.WoE') {\n",
    "        stop('summary_woe should be an object of Summary.WoE')\n",
    "    }\n",
    "\n",
    "    new_df <- as.data.frame(df[[y]], stringsAsFactors = FALSE)\n",
    "    colnames(new_df) <- y\n",
    "    predictors <- names(summary_woe)\n",
    "    for (predictor in predictors) {\n",
    "        if (!any(predictor == columns)) {\n",
    "            stop(sprintf('%s does not exist in df', predictor))\n",
    "        }\n",
    "        n_char <- str_length(predictor)\n",
    "        if (substr(predictor, n_char - 3, n_char) == '_woe') {\n",
    "            warning(sprintf(\"%s ends with '_woe'. Skip!\", predictor))\n",
    "            next\n",
    "        }\n",
    "\n",
    "        .woe <- summary_woe[[predictor]][['woe']]\n",
    "        .woe <- .woe[-nrow(.woe), ]\n",
    "        if (is.factor(df[, predictor])) {\n",
    "            new_df[, paste0(predictor, '_woe')] <-\n",
    "                .woe[match(df[, predictor], .woe[, 'Levels']), 'WoE']\n",
    "        }\n",
    "\n",
    "        if (is.numeric(df[, predictor])) {\n",
    "            cutp <- summary_woe[[predictor]][['cutp']]\n",
    "            x_disc <- label.numeric(df[, predictor], cutp)\n",
    "            new_df[, paste0(predictor, '_woe')] <-\n",
    "                .woe[match(x_disc, .woe[, 'Levels']), 'WoE']\n",
    "        }\n",
    "    }\n",
    "\n",
    "    new_df\n",
    "}"
   ]
  },
  {
   "cell_type": "code",
   "execution_count": 37,
   "id": "af16c8f5-43af-4a5a-aa9f-441451b89d43",
   "metadata": {},
   "outputs": [],
   "source": [
    "res = map_IV (pd_german_data,\n",
    "              predictors = c('amount','duration'),\n",
    "              outcome='GoodCredit',\n",
    "              bins = 10)"
   ]
  },
  {
   "cell_type": "code",
   "execution_count": 38,
   "id": "423ade1b-f591-4b89-b21f-495f8e4372c3",
   "metadata": {},
   "outputs": [
    {
     "data": {
      "text/html": [
       "<table class=\"dataframe\">\n",
       "<caption>A data.frame: 2 × 2</caption>\n",
       "<thead>\n",
       "\t<tr><th scope=col>Variable</th><th scope=col>IV</th></tr>\n",
       "\t<tr><th scope=col>&lt;chr&gt;</th><th scope=col>&lt;dbl&gt;</th></tr>\n",
       "</thead>\n",
       "<tbody>\n",
       "\t<tr><td>duration</td><td>0.2778772</td></tr>\n",
       "\t<tr><td>amount  </td><td>0.1117618</td></tr>\n",
       "</tbody>\n",
       "</table>\n"
      ],
      "text/latex": [
       "A data.frame: 2 × 2\n",
       "\\begin{tabular}{ll}\n",
       " Variable & IV\\\\\n",
       " <chr> & <dbl>\\\\\n",
       "\\hline\n",
       "\t duration & 0.2778772\\\\\n",
       "\t amount   & 0.1117618\\\\\n",
       "\\end{tabular}\n"
      ],
      "text/markdown": [
       "\n",
       "A data.frame: 2 × 2\n",
       "\n",
       "| Variable &lt;chr&gt; | IV &lt;dbl&gt; |\n",
       "|---|---|\n",
       "| duration | 0.2778772 |\n",
       "| amount   | 0.1117618 |\n",
       "\n"
      ],
      "text/plain": [
       "  Variable IV       \n",
       "1 duration 0.2778772\n",
       "2 amount   0.1117618"
      ]
     },
     "metadata": {},
     "output_type": "display_data"
    }
   ],
   "source": [
    "res$Summary"
   ]
  },
  {
   "cell_type": "code",
   "execution_count": 42,
   "id": "aeecf1de-fd3f-45e2-8486-47c900850476",
   "metadata": {},
   "outputs": [],
   "source": [
    "q = calculate_IV(pd_german_data,\n",
    "                predictor='amount',\n",
    "                outcome='GoodCredit',\n",
    "                bins = 10)"
   ]
  },
  {
   "cell_type": "code",
   "execution_count": 46,
   "id": "3c3c4b83-7d74-4a23-98c9-ab034b258209",
   "metadata": {},
   "outputs": [
    {
     "data": {
      "text/html": [
       "<table class=\"dataframe\">\n",
       "<caption>A tibble: 10 × 5</caption>\n",
       "<thead>\n",
       "\t<tr><th scope=col>amount</th><th scope=col>N</th><th scope=col>Percent</th><th scope=col>WOE</th><th scope=col>IV</th></tr>\n",
       "\t<tr><th scope=col>&lt;glue&gt;</th><th scope=col>&lt;int&gt;</th><th scope=col>&lt;dbl&gt;</th><th scope=col>&lt;dbl&gt;</th><th scope=col>&lt;dbl&gt;</th></tr>\n",
       "</thead>\n",
       "<tbody>\n",
       "\t<tr><td>[250,931]   </td><td> 99</td><td>0.099</td><td> 0.06177736</td><td>0.0003824313</td></tr>\n",
       "\t<tr><td>[932,1258]  </td><td> 99</td><td>0.099</td><td> 0.01438874</td><td>0.0004029866</td></tr>\n",
       "\t<tr><td>[1262,1474] </td><td> 99</td><td>0.099</td><td>-0.23789141</td><td>0.0057272229</td></tr>\n",
       "\t<tr><td>[1478,1901] </td><td>102</td><td>0.102</td><td>-0.38665578</td><td>0.0197204795</td></tr>\n",
       "\t<tr><td>[1905,2315] </td><td>100</td><td>0.100</td><td>-0.04808619</td><td>0.0199494614</td></tr>\n",
       "\t<tr><td>[2319,2835] </td><td>100</td><td>0.100</td><td>-0.25131443</td><td>0.0259331383</td></tr>\n",
       "\t<tr><td>[2848,3578] </td><td>100</td><td>0.100</td><td>-0.36101335</td><td>0.0379669164</td></tr>\n",
       "\t<tr><td>[3590,4712] </td><td>100</td><td>0.100</td><td>-0.04808619</td><td>0.0381958983</td></tr>\n",
       "\t<tr><td>[4716,7166] </td><td>100</td><td>0.100</td><td> 0.31508105</td><td>0.0486985998</td></tr>\n",
       "\t<tr><td>[7174,18424]</td><td>101</td><td>0.101</td><td> 0.74820696</td><td>0.1117617577</td></tr>\n",
       "</tbody>\n",
       "</table>\n"
      ],
      "text/latex": [
       "A tibble: 10 × 5\n",
       "\\begin{tabular}{lllll}\n",
       " amount & N & Percent & WOE & IV\\\\\n",
       " <glue> & <int> & <dbl> & <dbl> & <dbl>\\\\\n",
       "\\hline\n",
       "\t {[}250,931{]}    &  99 & 0.099 &  0.06177736 & 0.0003824313\\\\\n",
       "\t {[}932,1258{]}   &  99 & 0.099 &  0.01438874 & 0.0004029866\\\\\n",
       "\t {[}1262,1474{]}  &  99 & 0.099 & -0.23789141 & 0.0057272229\\\\\n",
       "\t {[}1478,1901{]}  & 102 & 0.102 & -0.38665578 & 0.0197204795\\\\\n",
       "\t {[}1905,2315{]}  & 100 & 0.100 & -0.04808619 & 0.0199494614\\\\\n",
       "\t {[}2319,2835{]}  & 100 & 0.100 & -0.25131443 & 0.0259331383\\\\\n",
       "\t {[}2848,3578{]}  & 100 & 0.100 & -0.36101335 & 0.0379669164\\\\\n",
       "\t {[}3590,4712{]}  & 100 & 0.100 & -0.04808619 & 0.0381958983\\\\\n",
       "\t {[}4716,7166{]}  & 100 & 0.100 &  0.31508105 & 0.0486985998\\\\\n",
       "\t {[}7174,18424{]} & 101 & 0.101 &  0.74820696 & 0.1117617577\\\\\n",
       "\\end{tabular}\n"
      ],
      "text/markdown": [
       "\n",
       "A tibble: 10 × 5\n",
       "\n",
       "| amount &lt;glue&gt; | N &lt;int&gt; | Percent &lt;dbl&gt; | WOE &lt;dbl&gt; | IV &lt;dbl&gt; |\n",
       "|---|---|---|---|---|\n",
       "| [250,931]    |  99 | 0.099 |  0.06177736 | 0.0003824313 |\n",
       "| [932,1258]   |  99 | 0.099 |  0.01438874 | 0.0004029866 |\n",
       "| [1262,1474]  |  99 | 0.099 | -0.23789141 | 0.0057272229 |\n",
       "| [1478,1901]  | 102 | 0.102 | -0.38665578 | 0.0197204795 |\n",
       "| [1905,2315]  | 100 | 0.100 | -0.04808619 | 0.0199494614 |\n",
       "| [2319,2835]  | 100 | 0.100 | -0.25131443 | 0.0259331383 |\n",
       "| [2848,3578]  | 100 | 0.100 | -0.36101335 | 0.0379669164 |\n",
       "| [3590,4712]  | 100 | 0.100 | -0.04808619 | 0.0381958983 |\n",
       "| [4716,7166]  | 100 | 0.100 |  0.31508105 | 0.0486985998 |\n",
       "| [7174,18424] | 101 | 0.101 |  0.74820696 | 0.1117617577 |\n",
       "\n"
      ],
      "text/plain": [
       "   amount       N   Percent WOE         IV          \n",
       "1  [250,931]     99 0.099    0.06177736 0.0003824313\n",
       "2  [932,1258]    99 0.099    0.01438874 0.0004029866\n",
       "3  [1262,1474]   99 0.099   -0.23789141 0.0057272229\n",
       "4  [1478,1901]  102 0.102   -0.38665578 0.0197204795\n",
       "5  [1905,2315]  100 0.100   -0.04808619 0.0199494614\n",
       "6  [2319,2835]  100 0.100   -0.25131443 0.0259331383\n",
       "7  [2848,3578]  100 0.100   -0.36101335 0.0379669164\n",
       "8  [3590,4712]  100 0.100   -0.04808619 0.0381958983\n",
       "9  [4716,7166]  100 0.100    0.31508105 0.0486985998\n",
       "10 [7174,18424] 101 0.101    0.74820696 0.1117617577"
      ]
     },
     "metadata": {},
     "output_type": "display_data"
    }
   ],
   "source": [
    "q"
   ]
  },
  {
   "cell_type": "code",
   "execution_count": 47,
   "id": "1293199f-366b-450d-948f-2b7619c83597",
   "metadata": {},
   "outputs": [
    {
     "data": {
      "text/html": [
       "0.308738892211175"
      ],
      "text/latex": [
       "0.308738892211175"
      ],
      "text/markdown": [
       "0.308738892211175"
      ],
      "text/plain": [
       "[1] 0.3087389"
      ]
     },
     "metadata": {},
     "output_type": "display_data"
    }
   ],
   "source": [
    "sum(q$IV)"
   ]
  },
  {
   "cell_type": "code",
   "execution_count": null,
   "id": "01c267d3-66da-4cdd-9c49-15eeec2d7c2f",
   "metadata": {},
   "outputs": [],
   "source": [
    "# https://www.r-bloggers.com/2013/07/r-credit-scoring-woe-information-value-in-woe-package/"
   ]
  },
  {
   "cell_type": "code",
   "execution_count": 76,
   "id": "f1b57237-cc50-400b-8c94-c7e03c55a01d",
   "metadata": {
    "tags": []
   },
   "outputs": [],
   "source": [
    "#' Calculate Information Value for character or factor columns\n",
    "#'\n",
    "#' This function calculates information value for character or factor columns of data frame. \n",
    "#'\n",
    "#' @param df data frame with at least two columns (predictor x and outcome y)\n",
    "#' @param x column (character or factor) for which Information Value should be calculated\n",
    "#' @param y column (integer) with binary outcome. y has to be a column in df data frame. It is suggested that y is factor with two levels \"bad\" and \"good\" If there are no levels good/bad than the following assumptions are applied - if y is integer, than 0=good and 1=bad. If y is factor than level 2 is assumed to mean bad and 1 good.\n",
    "#' @param verbose Prints additional details when TRUE. Useful mainly for debugging.\n",
    "#' @export\n",
    "#' @examples\n",
    "#' iv.str(german_data,\"purpose\",\"gb\")\n",
    "#' iv.str(german_data,\"savings\",\"gb\")\n",
    "\n",
    "iv.str <- function(df,x,y,verbose=FALSE) {\n",
    "  if (!(class(df)==\"data.frame\")) {\n",
    "    stop(\"Parameter df has to be a data frame.\")\n",
    "  } \n",
    "  if (!(is.character(df[, x]) || is.factor(df[, x]))) {\n",
    "    stop(paste(\"Input is not a character or factor! Variable:\", x))\n",
    "    } \n",
    "  if (!(is.numeric(df[, y]) || is.factor(df[, y]))) {\n",
    "    stop(\"Outcome is not a number nor factor!\")\n",
    "  } \n",
    "  if (length(unique(df[, y])) != 2) {\n",
    "    if(verbose) paste(cat(unique(df[,y])),\"\\n\")\n",
    "    stop(\"Not a binary outcome\")\n",
    "    }\n",
    "  if (!(all(sort(unique(df[, y])) == c(0,1))) && is.numeric(df[,y])) {\n",
    "    stop(\"Numeric outcome has to be encoded as 0 (good) and 1 (bad). \\n\")\n",
    "  }\n",
    "  if (is.factor(df[,y]) && all(levels(df[,y])[order(levels(df[,y]))]==c(\"bad\",\"good\"))) {\n",
    "    if (verbose) cat(\"Assuming good = level 'good' and bad = level 'bad' \\n\")\n",
    "    total_1 <- sum(df[,y]==\"bad\")\n",
    "    } else if (is.factor(df[,y])) {\n",
    "    if (verbose) cat(\"Factor: Assuming bad = level 2 and good = level 1 \\n\")\n",
    "    total_1 <- sum(as.integer(df[, y])-1)\n",
    "\n",
    "    } else {\n",
    "    if (verbose) cat(\"Numeric: Assuming bad = 1 and good = 0 \\n\")\n",
    "    total_1 <-sum(df[, y])\n",
    "\n",
    "  }\n",
    "\n",
    "  outcome_0 <- outcome_1 <- NULL # This is needed to avoid NOTES about not visible binding from R CMD check\n",
    "  \n",
    "  total_0 <- nrow(df) - total_1      \n",
    "  iv_data <- data.frame(unclass(table(df[, x],df[, y])))\n",
    "  \n",
    "  if (all(names(iv_data)==c(\"bad\",\"good\"))) {\n",
    "    iv_data <- iv_data[,c(2,1)]\n",
    "  }\n",
    "\n",
    "\n",
    "  names(iv_data) <- c(\"outcome_0\",\"outcome_1\")\n",
    "  iv_data <-  within(iv_data, {\n",
    "                class <- row.names(iv_data)\n",
    "                variable <- x\n",
    "                pct_0 <- outcome_0 / total_0\n",
    "                pct_1 <- outcome_1 / total_1\n",
    "                odds <-  pct_0 / pct_1\n",
    "                woe <- log(odds)\n",
    "                miv <- (pct_0 - pct_1) * woe    \n",
    "  })\n",
    "\n",
    "  if(is.factor(df[,x])) {\n",
    "    iv_data$class <- factor(iv_data$class,levels=levels(df[,x]))\n",
    "  }  \n",
    "  \n",
    "  iv_data <- iv_data[c(\"variable\",\"class\",\"outcome_0\",\"outcome_1\",\"pct_0\",\"pct_1\",\"odds\",\"woe\",\"miv\")]\n",
    "\n",
    "  if(any(iv_data$outcome_0 == 0) | any(iv_data$outcome_1 == 0)) {\n",
    "    warning(\"Some group for outcome 0 has zero count. This will result in -Inf or Inf WOE. Replacing - ODDS=1, WoE=0, MIV=0. \\n The bin is either too small or suspiciously predictive. \\n You should fix this before running any model. It does not make any sense to keep WoE = 0 for such bin.\")\n",
    "      iv_data$woe <- ifelse(is.infinite(iv_data$woe),0,iv_data$woe)\n",
    "      iv_data$miv <- ifelse(is.infinite(iv_data$miv),0,iv_data$miv)\n",
    "      iv_data$odds <-ifelse(is.infinite(iv_data$odds),1,iv_data$odds)\n",
    "  }\n",
    "  \n",
    "  rownames(iv_data) <- NULL\n",
    "  cat (paste(\"Information Value\",round(sum(iv_data$miv),10),\"\\n\"))\n",
    "  iv_data\n",
    "}\n"
   ]
  },
  {
   "cell_type": "code",
   "execution_count": 77,
   "id": "fff6e59c-e8d1-494f-be5c-d46955ed8ae7",
   "metadata": {},
   "outputs": [
    {
     "name": "stdout",
     "output_type": "stream",
     "text": [
      "Numeric: Assuming bad = 1 and good = 0 \n",
      "Information Value 0.6660115034 \n"
     ]
    },
    {
     "data": {
      "text/html": [
       "<table class=\"dataframe\">\n",
       "<caption>A data.frame: 4 × 9</caption>\n",
       "<thead>\n",
       "\t<tr><th scope=col>variable</th><th scope=col>class</th><th scope=col>outcome_0</th><th scope=col>outcome_1</th><th scope=col>pct_0</th><th scope=col>pct_1</th><th scope=col>odds</th><th scope=col>woe</th><th scope=col>miv</th></tr>\n",
       "\t<tr><th scope=col>&lt;chr&gt;</th><th scope=col>&lt;chr&gt;</th><th scope=col>&lt;int&gt;</th><th scope=col>&lt;int&gt;</th><th scope=col>&lt;dbl&gt;</th><th scope=col>&lt;dbl&gt;</th><th scope=col>&lt;dbl&gt;</th><th scope=col>&lt;dbl&gt;</th><th scope=col>&lt;dbl&gt;</th></tr>\n",
       "</thead>\n",
       "<tbody>\n",
       "\t<tr><td>checkingstatus</td><td>A11</td><td>139</td><td>135</td><td>0.1985714</td><td>0.45000000</td><td>0.4412698</td><td>-0.8180987</td><td>0.205693389</td></tr>\n",
       "\t<tr><td>checkingstatus</td><td>A12</td><td>164</td><td>105</td><td>0.2342857</td><td>0.35000000</td><td>0.6693878</td><td>-0.4013918</td><td>0.046446763</td></tr>\n",
       "\t<tr><td>checkingstatus</td><td>A13</td><td> 49</td><td> 14</td><td>0.0700000</td><td>0.04666667</td><td>1.5000000</td><td> 0.4054651</td><td>0.009460853</td></tr>\n",
       "\t<tr><td>checkingstatus</td><td>A14</td><td>348</td><td> 46</td><td>0.4971429</td><td>0.15333333</td><td>3.2422360</td><td> 1.1762632</td><td>0.404410499</td></tr>\n",
       "</tbody>\n",
       "</table>\n"
      ],
      "text/latex": [
       "A data.frame: 4 × 9\n",
       "\\begin{tabular}{lllllllll}\n",
       " variable & class & outcome\\_0 & outcome\\_1 & pct\\_0 & pct\\_1 & odds & woe & miv\\\\\n",
       " <chr> & <chr> & <int> & <int> & <dbl> & <dbl> & <dbl> & <dbl> & <dbl>\\\\\n",
       "\\hline\n",
       "\t checkingstatus & A11 & 139 & 135 & 0.1985714 & 0.45000000 & 0.4412698 & -0.8180987 & 0.205693389\\\\\n",
       "\t checkingstatus & A12 & 164 & 105 & 0.2342857 & 0.35000000 & 0.6693878 & -0.4013918 & 0.046446763\\\\\n",
       "\t checkingstatus & A13 &  49 &  14 & 0.0700000 & 0.04666667 & 1.5000000 &  0.4054651 & 0.009460853\\\\\n",
       "\t checkingstatus & A14 & 348 &  46 & 0.4971429 & 0.15333333 & 3.2422360 &  1.1762632 & 0.404410499\\\\\n",
       "\\end{tabular}\n"
      ],
      "text/markdown": [
       "\n",
       "A data.frame: 4 × 9\n",
       "\n",
       "| variable &lt;chr&gt; | class &lt;chr&gt; | outcome_0 &lt;int&gt; | outcome_1 &lt;int&gt; | pct_0 &lt;dbl&gt; | pct_1 &lt;dbl&gt; | odds &lt;dbl&gt; | woe &lt;dbl&gt; | miv &lt;dbl&gt; |\n",
       "|---|---|---|---|---|---|---|---|---|\n",
       "| checkingstatus | A11 | 139 | 135 | 0.1985714 | 0.45000000 | 0.4412698 | -0.8180987 | 0.205693389 |\n",
       "| checkingstatus | A12 | 164 | 105 | 0.2342857 | 0.35000000 | 0.6693878 | -0.4013918 | 0.046446763 |\n",
       "| checkingstatus | A13 |  49 |  14 | 0.0700000 | 0.04666667 | 1.5000000 |  0.4054651 | 0.009460853 |\n",
       "| checkingstatus | A14 | 348 |  46 | 0.4971429 | 0.15333333 | 3.2422360 |  1.1762632 | 0.404410499 |\n",
       "\n"
      ],
      "text/plain": [
       "  variable       class outcome_0 outcome_1 pct_0     pct_1      odds     \n",
       "1 checkingstatus A11   139       135       0.1985714 0.45000000 0.4412698\n",
       "2 checkingstatus A12   164       105       0.2342857 0.35000000 0.6693878\n",
       "3 checkingstatus A13    49        14       0.0700000 0.04666667 1.5000000\n",
       "4 checkingstatus A14   348        46       0.4971429 0.15333333 3.2422360\n",
       "  woe        miv        \n",
       "1 -0.8180987 0.205693389\n",
       "2 -0.4013918 0.046446763\n",
       "3  0.4054651 0.009460853\n",
       "4  1.1762632 0.404410499"
      ]
     },
     "metadata": {},
     "output_type": "display_data"
    }
   ],
   "source": [
    "pd_german_data <- read.csv(\"german_data.csv\")\n",
    "iv.str(pd_german_data, 'checkingstatus', 'GoodCredit', verbose=TRUE)"
   ]
  },
  {
   "cell_type": "code",
   "execution_count": null,
   "id": "299aef13-d136-480d-8c26-944290e2cd4e",
   "metadata": {},
   "outputs": [],
   "source": []
  },
  {
   "cell_type": "code",
   "execution_count": null,
   "id": "fbbdb102-7242-419c-ae48-00d14a5c37ee",
   "metadata": {},
   "outputs": [],
   "source": [
    "(data, \"checkingstatus\", \"GoodCredit\")"
   ]
  },
  {
   "cell_type": "code",
   "execution_count": null,
   "id": "2f40cd59-6524-491a-b4a1-c94cbf519a28",
   "metadata": {},
   "outputs": [],
   "source": []
  },
  {
   "cell_type": "code",
   "execution_count": null,
   "id": "9927f0a6-c42a-48b4-8cf7-a719cb3545fe",
   "metadata": {},
   "outputs": [],
   "source": []
  },
  {
   "cell_type": "markdown",
   "id": "341973eb-f046-4b0c-bec6-79ca99eb2e3d",
   "metadata": {},
   "source": [
    "### 9. LGD t-test"
   ]
  },
  {
   "cell_type": "code",
   "execution_count": null,
   "id": "ba585d34-64d4-4fee-a733-412611d28e2b",
   "metadata": {},
   "outputs": [],
   "source": []
  },
  {
   "cell_type": "markdown",
   "id": "3241070b-a7ac-4257-8c1e-949288d11b54",
   "metadata": {},
   "source": [
    "### 10. Migration matrix stability"
   ]
  },
  {
   "cell_type": "code",
   "execution_count": null,
   "id": "cf00fe7e-3eac-4b38-9316-3a7fa346f490",
   "metadata": {},
   "outputs": [],
   "source": []
  },
  {
   "cell_type": "markdown",
   "id": "5efe6acf-d3d1-46df-989a-35a86931e86b",
   "metadata": {},
   "source": [
    "### 11. PSI"
   ]
  },
  {
   "cell_type": "code",
   "execution_count": 49,
   "id": "a61fbb12-930f-46d2-aaa2-3bdc2c8fecef",
   "metadata": {},
   "outputs": [
    {
     "data": {
      "text/html": [
       "0.0242967833506301"
      ],
      "text/latex": [
       "0.0242967833506301"
      ],
      "text/markdown": [
       "0.0242967833506301"
      ],
      "text/plain": [
       "PSI : 0.0243 "
      ]
     },
     "metadata": {},
     "output_type": "display_data"
    },
    {
     "name": "stdout",
     "output_type": "stream",
     "text": [
      "PSI: 0.0243 \n",
      "\n",
      "      Levels OrgCnt CurCnt OrgPct CurPct  Index\n",
      "1     setosa     37     13 0.3524 0.2889 0.0126\n",
      "2 versicolor     33     17 0.3143 0.3778 0.0117\n",
      "3  virginica     35     15 0.3333 0.3333 0.0000\n",
      "4      Total    105     45 1.0000 1.0000 0.0243\n"
     ]
    }
   ],
   "source": [
    "#' @title\n",
    "#' Population Stability Index\n",
    "#' @description\n",
    "#' \\code{psi} calculates the popolation stability index.\n",
    "#' @author Siyuan Yao\n",
    "#' @references \\href{What is population stability index? - Quora}{https://www.quora.com/What-is-population-stability-index}\n",
    "#'\n",
    "#' @param original The original set of a measurement, should be a factor or numeric\n",
    "#' @param current  The current set of a measurement, should be a factor or numeric\n",
    "#' @param cut.points It won't work if original and current are factors, and it cannot be NULL if original and current are numerical. This function uses this argument to bin \\code{original} and \\code{current} with left-closed right-open intervals.\n",
    "#' @param cut.levels specifies how many levels to split a numeric variable. If \\code{cut.points} is provided, this parameter will be ignored. When using this parameter, a numeric variable will be split using \\code{cut}.\n",
    "#'\n",
    "#' @return a \\code{psi} object\n",
    "#'\n",
    "#' @details psi measures the stablity of the population. Usually we can believe the population stays the same as the past if psi is less than 0.1, and a significant shift can be recognised if psi is greater than 0.25. The outcome of this function is a numeric, with details stored as attributes. You can use \\code{summary} function to see all of the detailed information. Fot the situation where some of the levels has no element in either original population or current population and the psi does not exist for such levels, the empty levels will not be taken into account and a warning will inform you of this. Again, by using \\code{summary} you could know everything inside.\n",
    "#'\n",
    "#' @examples\n",
    "#' data(\"iris\")\n",
    "#' train <- sample(nrow(iris), nrow(iris) * .7)\n",
    "#' train.species <- iris$Species[train]\n",
    "#' test.species <- iris$Species[-train]\n",
    "#' p <- psi(train.species, test.species)\n",
    "#' p\n",
    "#' summary(p)\n",
    "#'\n",
    "#' @import magrittr\n",
    "#' @export\n",
    "psi <- function(original,\n",
    "                current,\n",
    "                cut.points = NULL,\n",
    "                cut.levels = ifelse(is.null(cut.points), 5L, NULL)) {\n",
    "\n",
    "    if (!is.null(cut.points)) {\n",
    "        cut.levels <- NULL\n",
    "    }\n",
    "\n",
    "    if (!is.null(cut.levels)) {\n",
    "        if (cut.levels < 3) {\n",
    "            warning(\"cut.levels must be an interger greater than 3\")\n",
    "            cut.levels <- 3L\n",
    "        }\n",
    "    }\n",
    "\n",
    "    # binning numeric\n",
    "    label.numeric <- function(x, cuts, na.level = NULL) {\n",
    "        cuts <- sort(cuts)\n",
    "        n_cut <- length(cuts)\n",
    "        level.names <- paste0('<= ', cuts) %>% c(paste0('> ', cuts[n_cut]))\n",
    "\n",
    "        if (any(is.null(na.level))) {\n",
    "            na.level <- any(is.na(x))\n",
    "        }\n",
    "        if (na.level) level.names <- c('Missing', level.names)\n",
    "        else {\n",
    "            if(any(is.na(x))) stop('x has NA value while na.level is FALSE')\n",
    "        }\n",
    "\n",
    "        y <- vector('integer', length(x))\n",
    "\n",
    "        for (i in n_cut:1) {\n",
    "            y[x <= cuts[i]] <- i\n",
    "        }\n",
    "        y[x > cuts[n_cut]] <- n_cut + 1\n",
    "\n",
    "        if (na.level) {\n",
    "            y <- level.names[y + 1]\n",
    "            y[is.na(x)] <- 'Missing'\n",
    "        } else {\n",
    "            y <- level.names[y]\n",
    "        }\n",
    "\n",
    "        factor(y, level.names)\n",
    "    }\n",
    "\n",
    "\n",
    "    # try to convert original & current to factor\n",
    "    if (is.numeric(original) & is.numeric(current)) {\n",
    "        if (is.null(cut.points)) {\n",
    "            cut.points <- unname(quantile(original,\n",
    "                                          seq(0, 1, length.out = cut.levels),\n",
    "                                          type = 1,\n",
    "                                          na.rm = TRUE))\n",
    "            cut.points <- cut.points[-c(1, length(cut.points))]\n",
    "        }\n",
    "        na.level <- any(is.na(c(original, current)))\n",
    "        # attr(res, 'original.num') <- original\n",
    "        # attr(res, 'current.num') <- current\n",
    "        original <- label.numeric(original, cut.points, na.level)\n",
    "        current  <- label.numeric(current, cut.points, na.level)\n",
    "    }\n",
    "\n",
    "    if (!is.factor(original) | !is.factor(current)) {\n",
    "        stop('original and current should be numeric or factor simultaneously.')\n",
    "    }\n",
    "    if (any(levels(original) != levels(current))) {\n",
    "        common_lv <- union(levels(original), levels(current))\n",
    "        original <- factor(original, levels = common_lv)\n",
    "        current  <- factor(current,  levels = common_lv)\n",
    "\n",
    "    }\n",
    "\n",
    "\n",
    "    levels.name <- levels(original)\n",
    "    org.stat.tbl <- tapply(X = original,\n",
    "                           INDEX = original,\n",
    "                           FUN = length,\n",
    "                           simplify = TRUE) %>%\n",
    "        sapply(function(x) ifelse(is.na(x), 0, x))\n",
    "    cur.stat.tbl <- tapply(X = current,\n",
    "                           INDEX = current,\n",
    "                           FUN = length,\n",
    "                           simplify = TRUE)%>%\n",
    "        sapply(function(x) ifelse(is.na(x), 0, x))\n",
    "\n",
    "    tbl <- data.frame(Levels = levels.name,\n",
    "                      OrgCnt = org.stat.tbl,\n",
    "                      CurCnt = cur.stat.tbl,\n",
    "                      OrgPct = org.stat.tbl / sum(org.stat.tbl),\n",
    "                      CurPct = cur.stat.tbl / sum(cur.stat.tbl))\n",
    "    tbl$Index <- (tbl$CurPct - tbl$OrgPct) * log(tbl$CurPct / tbl$OrgPct)\n",
    "\n",
    "    psi <- sum(tbl$Index[tbl$OrgCnt != 0 & tbl$CurCnt != 0])\n",
    "    res <- psi\n",
    "    tbl <- rbind(tbl, data.frame(Levels = 'Total',\n",
    "                                 OrgCnt = sum(org.stat.tbl),\n",
    "                                 CurCnt = sum(cur.stat.tbl),\n",
    "                                 OrgPct = 1,\n",
    "                                 CurPct = 1,\n",
    "                                 Index = psi))\n",
    "    rownames(tbl) <- NULL\n",
    "\n",
    "    tbl$OrgPct <- round(tbl$OrgPct, 4)\n",
    "    tbl$CurPct <- round(tbl$CurPct, 4)\n",
    "    tbl$Index  <- round(tbl$Index,  4)\n",
    "\n",
    "    attr(res, 'tbl') <- tbl\n",
    "    # attr(res, 'original') <- original\n",
    "    # attr(res, 'current')  <- current\n",
    "    if (any(tbl$OrgCnt == 0 | tbl$CurCnt == 0)) {\n",
    "        attr(res, 'Empty Levels') <- tbl$Levels[tbl$OrgCnt == 0 | tbl$CurCnt == 0] %>% as.character()\n",
    "        warning('Some of the levels are empty, and PSI may be inaccurate. Please use `summary` to see the details.')\n",
    "    }\n",
    "    class(res) <- c('psi', 'numeric')\n",
    "    res\n",
    "}\n",
    "\n",
    "\n",
    "#' @export\n",
    "print.psi <- function(x, ...) {\n",
    "    cat('PSI :', round(x, 4), '\\n')\n",
    "    # NextMethod('print')\n",
    "}\n",
    "\n",
    "#' @export\n",
    "summary.psi <- function(object, ...) {\n",
    "    cat('PSI:', round(object, 4), '\\n\\n')\n",
    "    print(attr(object, 'tbl'))\n",
    "\n",
    "    if (!is.null(attr(object, 'Empty Levels'))) {\n",
    "        cat('\\nEmpty Levels: ', paste0(attr(object, 'Empty Levels'), collapse = ', '), '\\n')\n",
    "    }\n",
    "    # NextMethod('summary')\n",
    "}"
   ]
  },
  {
   "cell_type": "code",
   "execution_count": 62,
   "id": "63292b48-205c-4f19-9fab-4669b4331fe4",
   "metadata": {},
   "outputs": [],
   "source": [
    "# create dataset\n",
    "pd_psi <- read.csv(\"test_pd_psi.csv\")\n",
    "\n",
    "expected <- pd_psi$remaining_mat_bin[pd_psi$year_bins=='period_1']\n",
    "actual <- pd_psi$remaining_mat_bin[pd_psi$year_bins=='period_2']\n",
    "p <- psi(expected, actual, cut.points = c(0,1,2,3,4,5,6,7,8))\n",
    "summary(p)"
   ]
  },
  {
   "cell_type": "markdown",
   "id": "cb321d20-41da-491b-9169-0f553af452e3",
   "metadata": {},
   "source": [
    "### 12. Bayesian Error Rate"
   ]
  },
  {
   "cell_type": "code",
   "execution_count": null,
   "id": "3c9650ac-69b8-4f5a-98c7-9b4a9715c84c",
   "metadata": {},
   "outputs": [],
   "source": [
    "`bayes.error.rate` <-\n",
    "function(tar, non, lpo) {\n",
    "  n <- length(lpo)\n",
    "  pmiss <- pfa <- vector(mode=\"numeric\", length=n)\n",
    "  for (i in 1:n) {\n",
    "    p <- sigmoid(tar+lpo[i])\n",
    "    pmiss[i] <- mean(1-sign(p-0.5))/2\n",
    "    p <- sigmoid(non+lpo[i])\n",
    "    pfa[i] <- mean(1-sign(0.5-p))/2\n",
    "  }\n",
    "  pmiss*sigmoid(lpo) + pfa*sigmoid(-lpo)\n",
    "}"
   ]
  },
  {
   "cell_type": "markdown",
   "id": "16f76ac9-58d6-4449-a0bf-a2bda3734f1e",
   "metadata": {},
   "source": [
    "### 13. SomersD"
   ]
  },
  {
   "cell_type": "code",
   "execution_count": 92,
   "id": "abc7fe07-cd91-4d70-b72c-972c2d6a69ea",
   "metadata": {},
   "outputs": [
    {
     "data": {
      "text/html": [
       "-0.25"
      ],
      "text/latex": [
       "-0.25"
      ],
      "text/markdown": [
       "-0.25"
      ],
      "text/plain": [
       "[1] -0.25"
      ]
     },
     "metadata": {},
     "output_type": "display_data"
    }
   ],
   "source": [
    "library(DescTools)\n",
    "SomersDelta(x=c(0, 1, 1, 1, 1), y=c(1, 1, 1, 0, 1), direction = 'column')"
   ]
  },
  {
   "cell_type": "markdown",
   "id": "8c75757b-3efb-4119-9578-601cb08c7928",
   "metadata": {},
   "source": [
    "#### 14. Kendall Tau"
   ]
  },
  {
   "cell_type": "code",
   "execution_count": 93,
   "id": "1cef8385-3f2b-4578-85d2-f61069e6888b",
   "metadata": {},
   "outputs": [
    {
     "data": {
      "text/plain": [
       "\n",
       "\tKendall's rank correlation tau\n",
       "\n",
       "data:  x and y\n",
       "z = 0.12931, p-value = 0.8971\n",
       "alternative hypothesis: true tau is not equal to 0\n",
       "sample estimates:\n",
       "       tau \n",
       "0.03030651 \n"
      ]
     },
     "metadata": {},
     "output_type": "display_data"
    }
   ],
   "source": [
    "x<-c(1,2,3,2,1,3,4,2,5,2,6,5,5)\n",
    "y<-c(5,5,6,2,1,4,4,2,1,2,1,5,5)\n",
    "res<-cor.test(x,y, method=\"kendall\")\n",
    "res"
   ]
  },
  {
   "cell_type": "markdown",
   "id": "f32f168e-bf6c-4987-a1ae-a3c8bca331c6",
   "metadata": {},
   "source": [
    "### 15. Spearman correlation"
   ]
  },
  {
   "cell_type": "code",
   "execution_count": 96,
   "id": "6e761668-8387-428d-823a-8bcb285b32e2",
   "metadata": {},
   "outputs": [
    {
     "data": {
      "text/html": [
       "0.820782681668123"
      ],
      "text/latex": [
       "0.820782681668123"
      ],
      "text/markdown": [
       "0.820782681668123"
      ],
      "text/plain": [
       "[1] 0.8207827"
      ]
     },
     "metadata": {},
     "output_type": "display_data"
    }
   ],
   "source": [
    "x = c(1,2,3,4,5)\n",
    "y = c(5,6,7,8,7)\n",
    " \n",
    "# Calculating\n",
    "# Correlation coefficient\n",
    "# Using cor() method\n",
    "cor(x, y, method = \"spearman\")\n"
   ]
  },
  {
   "cell_type": "code",
   "execution_count": null,
   "id": "65e0035c-5611-480d-b2fd-b2320e56bfae",
   "metadata": {},
   "outputs": [],
   "source": []
  },
  {
   "cell_type": "markdown",
   "id": "f20ee92e-8948-4c1d-a9d1-d7d90f6cbcda",
   "metadata": {},
   "source": [
    "### TO BE DELETED"
   ]
  },
  {
   "cell_type": "code",
   "execution_count": 10,
   "id": "4a3826e2-074d-4090-8fa4-3f9f339fc2c1",
   "metadata": {},
   "outputs": [
    {
     "data": {
      "text/html": [
       "<pre class=language-r><code>function (predictedArr, truthArr) \n",
       "{\n",
       "<span style=white-space:pre-wrap>    if (length(predictedArr) != length(truthArr)) {</span>\n",
       "<span style=white-space:pre-wrap>        print(\"ERROR: length NOT equal!!\")</span>\n",
       "<span style=white-space:pre-wrap>    }</span>\n",
       "<span style=white-space:pre-wrap>    temp.vec &lt;- (truthArr - predictedArr)^2</span>\n",
       "<span style=white-space:pre-wrap>    sum(temp.vec)</span>\n",
       "}</code></pre>"
      ],
      "text/latex": [
       "\\begin{minted}{r}\n",
       "function (predictedArr, truthArr) \n",
       "\\{\n",
       "    if (length(predictedArr) != length(truthArr)) \\{\n",
       "        print(\"ERROR: length NOT equal!!\")\n",
       "    \\}\n",
       "    temp.vec <- (truthArr - predictedArr)\\textasciicircum{}2\n",
       "    sum(temp.vec)\n",
       "\\}\n",
       "\\end{minted}"
      ],
      "text/markdown": [
       "```r\n",
       "function (predictedArr, truthArr) \n",
       "{\n",
       "    if (length(predictedArr) != length(truthArr)) {\n",
       "        print(\"ERROR: length NOT equal!!\")\n",
       "    }\n",
       "    temp.vec <- (truthArr - predictedArr)^2\n",
       "    sum(temp.vec)\n",
       "}\n",
       "```"
      ],
      "text/plain": [
       "function (predictedArr, truthArr) \n",
       "{\n",
       "    if (length(predictedArr) != length(truthArr)) {\n",
       "        print(\"ERROR: length NOT equal!!\")\n",
       "    }\n",
       "    temp.vec <- (truthArr - predictedArr)^2\n",
       "    sum(temp.vec)\n",
       "}\n",
       "<bytecode: 0x00000000330ca708>\n",
       "<environment: namespace:iterativeBMA>"
      ]
     },
     "metadata": {},
     "output_type": "display_data"
    }
   ],
   "source": [
    "brier.score"
   ]
  },
  {
   "cell_type": "code",
   "execution_count": 11,
   "id": "034e0b82-acc4-4eaa-844d-94f9959ed264",
   "metadata": {},
   "outputs": [
    {
     "data": {
      "text/html": [
       "<pre class=language-r><code>function (rating.label, pdc, no, nb, alpha = 0.05) \n",
       "{\n",
       "<span style=white-space:pre-wrap>    l &lt;- list(rating.label, pdc, no, nb)</span>\n",
       "<span style=white-space:pre-wrap>    l.check &lt;- !length(table(sapply(l, length))) == 1</span>\n",
       "<span style=white-space:pre-wrap>    if (l.check) {</span>\n",
       "<span style=white-space:pre-wrap>        stop(\"arguments rating.label, pdc, no and nb have to be of the same length.\")</span>\n",
       "<span style=white-space:pre-wrap>    }</span>\n",
       "<span style=white-space:pre-wrap>    if (any(!(is.numeric(pdc) | is.numeric(n) | is.numeric(nb)))) {</span>\n",
       "<span style=white-space:pre-wrap>        stop(\"All arguments have to of numeric type.\")</span>\n",
       "<span style=white-space:pre-wrap>    }</span>\n",
       "<span style=white-space:pre-wrap>    if (any(pdc &gt; 1 | pdc &lt; 0)) {</span>\n",
       "<span style=white-space:pre-wrap>        stop(\"pdc and odr have to be between 0 and 1.\")</span>\n",
       "<span style=white-space:pre-wrap>    }</span>\n",
       "<span style=white-space:pre-wrap>    if (any(nb &gt; no)) {</span>\n",
       "<span style=white-space:pre-wrap>        stop(\"Number of defaults cannot be greater than number of observations.\")</span>\n",
       "<span style=white-space:pre-wrap>    }</span>\n",
       "<span style=white-space:pre-wrap>    if (any(nb &lt; 0 | no &lt; 0)) {</span>\n",
       "<span style=white-space:pre-wrap>        stop(\"no and nb arguments cannot be negative.\")</span>\n",
       "<span style=white-space:pre-wrap>    }</span>\n",
       "<span style=white-space:pre-wrap>    if (alpha &gt; 1 | alpha &lt; 0) {</span>\n",
       "<span style=white-space:pre-wrap>        stop(\"significance level (alpha) has to be between 0 and 1.\")</span>\n",
       "<span style=white-space:pre-wrap>    }</span>\n",
       "<span style=white-space:pre-wrap>    bino.test &lt;- pbinom(nb - 1, no, pdc, lower.tail = FALSE)</span>\n",
       "<span style=white-space:pre-wrap>    bino.test.res &lt;- ifelse(bino.test &gt;= alpha, \"H0: ODR &lt;= PDC\", </span>\n",
       "<span style=white-space:pre-wrap>        \"H1: ODR &gt; PDC\")</span>\n",
       "<span style=white-space:pre-wrap>    jeff.test &lt;- pbeta(pdc, nb + 0.5, no - nb + 0.5)</span>\n",
       "<span style=white-space:pre-wrap>    jeff.test.res &lt;- ifelse(jeff.test &gt;= alpha, \"H0: ODR &lt;= PDC\", </span>\n",
       "<span style=white-space:pre-wrap>        \"H1: ODR &gt; PDC\")</span>\n",
       "<span style=white-space:pre-wrap>    odr &lt;- nb/no</span>\n",
       "<span style=white-space:pre-wrap>    zsco.test &lt;- zscore.test(pdc = pdc, odr = odr, no = no)</span>\n",
       "<span style=white-space:pre-wrap>    zsco.test.res &lt;- ifelse(zsco.test &gt;= alpha, \"H0: ODR &lt;= PDC\", </span>\n",
       "<span style=white-space:pre-wrap>        \"H1: ODR &gt; PDC\")</span>\n",
       "<span style=white-space:pre-wrap>    if (length(pdc) == 1) {</span>\n",
       "<span style=white-space:pre-wrap>        hosm.test &lt;- NA</span>\n",
       "<span style=white-space:pre-wrap>        hosm.test.res &lt;- \"Only one rating grade.\"</span>\n",
       "<span style=white-space:pre-wrap>    }</span>\n",
       "<span style=white-space:pre-wrap>    else {</span>\n",
       "<span style=white-space:pre-wrap>        hosm.test &lt;- hl.test(pdc = pdc, no = no, nb = nb)</span>\n",
       "<span style=white-space:pre-wrap>        hosm.test.res &lt;- ifelse(hosm.test &gt;= alpha, \"H0: ODR &lt;= PDC\", </span>\n",
       "<span style=white-space:pre-wrap>            \"H1: ODR &gt; PDC\")</span>\n",
       "<span style=white-space:pre-wrap>    }</span>\n",
       "<span style=white-space:pre-wrap>    res &lt;- data.frame(rating = rating.label, no = no, nb = nb, </span>\n",
       "<span style=white-space:pre-wrap>        odr = odr, pdc = pdc, alpha = alpha, binomial = bino.test, </span>\n",
       "<span style=white-space:pre-wrap>        binomial.res = bino.test.res, jeffreys = jeff.test, jeffreys.res = jeff.test.res, </span>\n",
       "<span style=white-space:pre-wrap>        zscore = zsco.test, zscore.res = zsco.test.res, hosmer.lemeshow = hosm.test, </span>\n",
       "<span style=white-space:pre-wrap>        hosmer.lemeshow.res = hosm.test.res)</span>\n",
       "<span style=white-space:pre-wrap>    return(res)</span>\n",
       "}</code></pre>"
      ],
      "text/latex": [
       "\\begin{minted}{r}\n",
       "function (rating.label, pdc, no, nb, alpha = 0.05) \n",
       "\\{\n",
       "    l <- list(rating.label, pdc, no, nb)\n",
       "    l.check <- !length(table(sapply(l, length))) == 1\n",
       "    if (l.check) \\{\n",
       "        stop(\"arguments rating.label, pdc, no and nb have to be of the same length.\")\n",
       "    \\}\n",
       "    if (any(!(is.numeric(pdc) \\textbar{} is.numeric(n) \\textbar{} is.numeric(nb)))) \\{\n",
       "        stop(\"All arguments have to of numeric type.\")\n",
       "    \\}\n",
       "    if (any(pdc > 1 \\textbar{} pdc < 0)) \\{\n",
       "        stop(\"pdc and odr have to be between 0 and 1.\")\n",
       "    \\}\n",
       "    if (any(nb > no)) \\{\n",
       "        stop(\"Number of defaults cannot be greater than number of observations.\")\n",
       "    \\}\n",
       "    if (any(nb < 0 \\textbar{} no < 0)) \\{\n",
       "        stop(\"no and nb arguments cannot be negative.\")\n",
       "    \\}\n",
       "    if (alpha > 1 \\textbar{} alpha < 0) \\{\n",
       "        stop(\"significance level (alpha) has to be between 0 and 1.\")\n",
       "    \\}\n",
       "    bino.test <- pbinom(nb - 1, no, pdc, lower.tail = FALSE)\n",
       "    bino.test.res <- ifelse(bino.test >= alpha, \"H0: ODR <= PDC\", \n",
       "        \"H1: ODR > PDC\")\n",
       "    jeff.test <- pbeta(pdc, nb + 0.5, no - nb + 0.5)\n",
       "    jeff.test.res <- ifelse(jeff.test >= alpha, \"H0: ODR <= PDC\", \n",
       "        \"H1: ODR > PDC\")\n",
       "    odr <- nb/no\n",
       "    zsco.test <- zscore.test(pdc = pdc, odr = odr, no = no)\n",
       "    zsco.test.res <- ifelse(zsco.test >= alpha, \"H0: ODR <= PDC\", \n",
       "        \"H1: ODR > PDC\")\n",
       "    if (length(pdc) == 1) \\{\n",
       "        hosm.test <- NA\n",
       "        hosm.test.res <- \"Only one rating grade.\"\n",
       "    \\}\n",
       "    else \\{\n",
       "        hosm.test <- hl.test(pdc = pdc, no = no, nb = nb)\n",
       "        hosm.test.res <- ifelse(hosm.test >= alpha, \"H0: ODR <= PDC\", \n",
       "            \"H1: ODR > PDC\")\n",
       "    \\}\n",
       "    res <- data.frame(rating = rating.label, no = no, nb = nb, \n",
       "        odr = odr, pdc = pdc, alpha = alpha, binomial = bino.test, \n",
       "        binomial.res = bino.test.res, jeffreys = jeff.test, jeffreys.res = jeff.test.res, \n",
       "        zscore = zsco.test, zscore.res = zsco.test.res, hosmer.lemeshow = hosm.test, \n",
       "        hosmer.lemeshow.res = hosm.test.res)\n",
       "    return(res)\n",
       "\\}\n",
       "\\end{minted}"
      ],
      "text/markdown": [
       "```r\n",
       "function (rating.label, pdc, no, nb, alpha = 0.05) \n",
       "{\n",
       "    l <- list(rating.label, pdc, no, nb)\n",
       "    l.check <- !length(table(sapply(l, length))) == 1\n",
       "    if (l.check) {\n",
       "        stop(\"arguments rating.label, pdc, no and nb have to be of the same length.\")\n",
       "    }\n",
       "    if (any(!(is.numeric(pdc) | is.numeric(n) | is.numeric(nb)))) {\n",
       "        stop(\"All arguments have to of numeric type.\")\n",
       "    }\n",
       "    if (any(pdc > 1 | pdc < 0)) {\n",
       "        stop(\"pdc and odr have to be between 0 and 1.\")\n",
       "    }\n",
       "    if (any(nb > no)) {\n",
       "        stop(\"Number of defaults cannot be greater than number of observations.\")\n",
       "    }\n",
       "    if (any(nb < 0 | no < 0)) {\n",
       "        stop(\"no and nb arguments cannot be negative.\")\n",
       "    }\n",
       "    if (alpha > 1 | alpha < 0) {\n",
       "        stop(\"significance level (alpha) has to be between 0 and 1.\")\n",
       "    }\n",
       "    bino.test <- pbinom(nb - 1, no, pdc, lower.tail = FALSE)\n",
       "    bino.test.res <- ifelse(bino.test >= alpha, \"H0: ODR <= PDC\", \n",
       "        \"H1: ODR > PDC\")\n",
       "    jeff.test <- pbeta(pdc, nb + 0.5, no - nb + 0.5)\n",
       "    jeff.test.res <- ifelse(jeff.test >= alpha, \"H0: ODR <= PDC\", \n",
       "        \"H1: ODR > PDC\")\n",
       "    odr <- nb/no\n",
       "    zsco.test <- zscore.test(pdc = pdc, odr = odr, no = no)\n",
       "    zsco.test.res <- ifelse(zsco.test >= alpha, \"H0: ODR <= PDC\", \n",
       "        \"H1: ODR > PDC\")\n",
       "    if (length(pdc) == 1) {\n",
       "        hosm.test <- NA\n",
       "        hosm.test.res <- \"Only one rating grade.\"\n",
       "    }\n",
       "    else {\n",
       "        hosm.test <- hl.test(pdc = pdc, no = no, nb = nb)\n",
       "        hosm.test.res <- ifelse(hosm.test >= alpha, \"H0: ODR <= PDC\", \n",
       "            \"H1: ODR > PDC\")\n",
       "    }\n",
       "    res <- data.frame(rating = rating.label, no = no, nb = nb, \n",
       "        odr = odr, pdc = pdc, alpha = alpha, binomial = bino.test, \n",
       "        binomial.res = bino.test.res, jeffreys = jeff.test, jeffreys.res = jeff.test.res, \n",
       "        zscore = zsco.test, zscore.res = zsco.test.res, hosmer.lemeshow = hosm.test, \n",
       "        hosmer.lemeshow.res = hosm.test.res)\n",
       "    return(res)\n",
       "}\n",
       "```"
      ],
      "text/plain": [
       "function (rating.label, pdc, no, nb, alpha = 0.05) \n",
       "{\n",
       "    l <- list(rating.label, pdc, no, nb)\n",
       "    l.check <- !length(table(sapply(l, length))) == 1\n",
       "    if (l.check) {\n",
       "        stop(\"arguments rating.label, pdc, no and nb have to be of the same length.\")\n",
       "    }\n",
       "    if (any(!(is.numeric(pdc) | is.numeric(n) | is.numeric(nb)))) {\n",
       "        stop(\"All arguments have to of numeric type.\")\n",
       "    }\n",
       "    if (any(pdc > 1 | pdc < 0)) {\n",
       "        stop(\"pdc and odr have to be between 0 and 1.\")\n",
       "    }\n",
       "    if (any(nb > no)) {\n",
       "        stop(\"Number of defaults cannot be greater than number of observations.\")\n",
       "    }\n",
       "    if (any(nb < 0 | no < 0)) {\n",
       "        stop(\"no and nb arguments cannot be negative.\")\n",
       "    }\n",
       "    if (alpha > 1 | alpha < 0) {\n",
       "        stop(\"significance level (alpha) has to be between 0 and 1.\")\n",
       "    }\n",
       "    bino.test <- pbinom(nb - 1, no, pdc, lower.tail = FALSE)\n",
       "    bino.test.res <- ifelse(bino.test >= alpha, \"H0: ODR <= PDC\", \n",
       "        \"H1: ODR > PDC\")\n",
       "    jeff.test <- pbeta(pdc, nb + 0.5, no - nb + 0.5)\n",
       "    jeff.test.res <- ifelse(jeff.test >= alpha, \"H0: ODR <= PDC\", \n",
       "        \"H1: ODR > PDC\")\n",
       "    odr <- nb/no\n",
       "    zsco.test <- zscore.test(pdc = pdc, odr = odr, no = no)\n",
       "    zsco.test.res <- ifelse(zsco.test >= alpha, \"H0: ODR <= PDC\", \n",
       "        \"H1: ODR > PDC\")\n",
       "    if (length(pdc) == 1) {\n",
       "        hosm.test <- NA\n",
       "        hosm.test.res <- \"Only one rating grade.\"\n",
       "    }\n",
       "    else {\n",
       "        hosm.test <- hl.test(pdc = pdc, no = no, nb = nb)\n",
       "        hosm.test.res <- ifelse(hosm.test >= alpha, \"H0: ODR <= PDC\", \n",
       "            \"H1: ODR > PDC\")\n",
       "    }\n",
       "    res <- data.frame(rating = rating.label, no = no, nb = nb, \n",
       "        odr = odr, pdc = pdc, alpha = alpha, binomial = bino.test, \n",
       "        binomial.res = bino.test.res, jeffreys = jeff.test, jeffreys.res = jeff.test.res, \n",
       "        zscore = zsco.test, zscore.res = zsco.test.res, hosmer.lemeshow = hosm.test, \n",
       "        hosmer.lemeshow.res = hosm.test.res)\n",
       "    return(res)\n",
       "}\n",
       "<bytecode: 0x000000002ba1f778>\n",
       "<environment: namespace:PDtoolkit>"
      ]
     },
     "metadata": {},
     "output_type": "display_data"
    }
   ],
   "source": [
    "pp.testing"
   ]
  },
  {
   "cell_type": "code",
   "execution_count": 12,
   "id": "d9c39e84-12d5-466b-be78-1eac7fff10b3",
   "metadata": {},
   "outputs": [],
   "source": [
    "hl.test <- function(pdc, no, nb) {\n",
    "\tk <- length(no)\n",
    "\thl <- sum((nb - no * pdc)^2 / (no * pdc * (1 - pdc)), na.rm = T)\n",
    "\tp.val <- pchisq(q = hl, df = k, lower.tail = FALSE)\n",
    "return(p.val)\n",
    "}"
   ]
  }
 ],
 "metadata": {
  "kernelspec": {
   "display_name": "R",
   "language": "R",
   "name": "ir"
  },
  "language_info": {
   "codemirror_mode": "r",
   "file_extension": ".r",
   "mimetype": "text/x-r-source",
   "name": "R",
   "pygments_lexer": "r",
   "version": "4.1.3"
  }
 },
 "nbformat": 4,
 "nbformat_minor": 5
}
